{
 "cells": [
  {
   "cell_type": "code",
   "execution_count": 1,
   "id": "6deb13fa-f164-4dc3-b1cd-51ae600c8be4",
   "metadata": {},
   "outputs": [],
   "source": [
    "import pandas as pd\n",
    "import numpy as np\n",
    "\n",
    "# Read in file and drop respondents who didn't get through Case 1\n",
    "pvp_clean = pd.read_csv('C:/Users/julienw/OneDrive - Michigan Medicine/Documents/PVP/Data/pvp_clean_fixed.csv')\n",
    "pvp_clean = pvp_clean[pvp_clean['case1_q3'].notna() | pvp_clean['case2_q6'].notna() \n",
    "                   | pvp_clean['case3_q8'].notna() | pvp_clean['case4_q11'].notna() |\n",
    "                   pvp_clean['case5_q14'].notna() | pvp_clean['case6_q17'].notna()].reset_index(drop = True)"
   ]
  },
  {
   "cell_type": "code",
   "execution_count": 2,
   "id": "c24a3aba-c297-487f-9877-c4fb6402b497",
   "metadata": {},
   "outputs": [],
   "source": [
    "# Hard code factor variables not randomized in cases\n",
    "pvp_clean['examq8_n'] = 3\n",
    "pvp_clean['examq11_n'] = 3\n",
    "pvp_clean['examq14_n'] = 3\n",
    "pvp_clean['examq17_n'] = 3\n",
    "pvp_clean['pmhq8_n'] = 4\n",
    "pvp_clean['pmhq11_n'] = 4\n",
    "pvp_clean['pmhq14_n'] = 4\n",
    "pvp_clean['pmhq17_n'] = 4\n",
    "pvp_clean['o2q3_n'] = 3\n",
    "pvp_clean['o2q6_n'] = 3\n",
    "pvp_clean['o2q14_n'] = 3\n",
    "pvp_clean['o2q17_n'] = 3\n",
    "pvp_clean['rrq3_n'] = 4\n",
    "pvp_clean['rrq6_n'] = 4\n",
    "pvp_clean['rrq14_n'] = 4\n",
    "pvp_clean['rrq17_n'] = 4\n",
    "pvp_clean['lactateq3_n'] = 4\n",
    "pvp_clean['lactateq6_n'] = 4\n",
    "pvp_clean['lactateq8_n'] = 4\n",
    "pvp_clean['lactateq11_n'] = 4\n",
    "pvp_clean['akiq3_n'] = 4\n",
    "pvp_clean['akiq6_n'] = 4\n",
    "pvp_clean['akiq8_n'] = 4\n",
    "pvp_clean['akiq11_n'] = 4"
   ]
  },
  {
   "cell_type": "code",
   "execution_count": 3,
   "id": "b7f05c26-67a8-49b6-b146-56d3acdcf762",
   "metadata": {},
   "outputs": [],
   "source": [
    "# Create new fluid variables derived from recommended treatment variable\n",
    "# np.where(condition, value if condition is true, value if condition is false)\n",
    "pvp_clean['fluid 1'] = np.where(pvp_clean['case1_q3'].isna(), np.nan,\n",
    "                                np.where((pvp_clean['case1_q3'] == 1) | (pvp_clean['case1_q3'] == 2), 1, 0))\n",
    "pvp_clean['fluid 2'] = np.where(pvp_clean['case2_q6'].isna(), np.nan,\n",
    "                                np.where((pvp_clean['case2_q6'] == 1) | (pvp_clean['case2_q6'] == 2), 1, 0))\n",
    "pvp_clean['fluid 3'] = np.where(pvp_clean['case3_q8'].isna(), np.nan,\n",
    "                                np.where((pvp_clean['case3_q8'] == 1) | (pvp_clean['case3_q8'] == 2), 1, 0))\n",
    "pvp_clean['fluid 4'] = np.where(pvp_clean['case4_q11'].isna(), np.nan,\n",
    "                                np.where((pvp_clean['case4_q11'] == 1) | (pvp_clean['case4_q11'] == 2), 1, 0))\n",
    "pvp_clean['fluid 5'] = np.where(pvp_clean['case5_q14'].isna(), np.nan,\n",
    "                                np.where((pvp_clean['case5_q14'] == 1) | (pvp_clean['case5_q14'] == 2), 1, 0))\n",
    "pvp_clean['fluid 6'] = np.where(pvp_clean['case6_q17'].isna(), np.nan,\n",
    "                                np.where((pvp_clean['case6_q17'] == 1) | (pvp_clean['case6_q17'] == 2), 1, 0))"
   ]
  },
  {
   "cell_type": "code",
   "execution_count": 4,
   "id": "83fbd8e7-8845-4b6e-8d57-87002e1393ba",
   "metadata": {},
   "outputs": [],
   "source": [
    "# Create pressors variables derived from recommended treatment variable\n",
    "pvp_clean['pressor 1'] = np.where(pvp_clean['case1_q3'].isna(), np.nan,\n",
    "                                  np.where((pvp_clean['case1_q3'] == 2) | (pvp_clean['case1_q3'] == 3), 1, 0))\n",
    "pvp_clean['pressor 2'] = np.where(pvp_clean['case2_q6'].isna(), np.nan,\n",
    "                                  np.where((pvp_clean['case2_q6'] == 2) | (pvp_clean['case2_q6'] == 3), 1, 0))\n",
    "pvp_clean['pressor 3'] = np.where(pvp_clean['case3_q8'].isna(), np.nan,\n",
    "                                  np.where((pvp_clean['case3_q8'] == 2) | (pvp_clean['case3_q8'] == 3), 1, 0))\n",
    "pvp_clean['pressor 4'] = np.where(pvp_clean['case4_q11'].isna(), np.nan,\n",
    "                                  np.where((pvp_clean['case4_q11'] == 2) | (pvp_clean['case4_q11'] == 3), 1, 0))\n",
    "pvp_clean['pressor 5'] = np.where(pvp_clean['case5_q14'].isna(), np.nan,\n",
    "                                  np.where((pvp_clean['case5_q14'] == 2) | (pvp_clean['case5_q14'] == 3), 1, 0))\n",
    "pvp_clean['pressor 6'] = np.where(pvp_clean['case6_q17'].isna(), np.nan,\n",
    "                                  np.where((pvp_clean['case6_q17'] == 2) | (pvp_clean['case6_q17'] == 3), 1, 0))"
   ]
  },
  {
   "cell_type": "code",
   "execution_count": 5,
   "id": "cecdd26b-3b1d-4dbc-bba8-bbd07cb99b4d",
   "metadata": {},
   "outputs": [],
   "source": [
    "# Create perip variables derived from route variable\n",
    "pvp_clean['perip 1'] = np.where(pvp_clean['route1_q3'].isna(), np.nan,\n",
    "                                np.where((pvp_clean['route1_q3'] == 1) | (pvp_clean['route1_q3'] == 2), 1, 0))\n",
    "pvp_clean['perip 2'] = np.where((pvp_clean['examq6_n'].isna()) & (pvp_clean['pmhq6_n'].isna()) &\n",
    "                                (pvp_clean['fluidq6_n'].isna()) & (pvp_clean['mapq6_n'].isna()), np.nan, 0)\n",
    "pvp_clean['perip 3'] = np.where(pvp_clean['route3_q8'].isna(), np.nan,\n",
    "                                np.where((pvp_clean['route3_q8'] == 1) | (pvp_clean['route3_q8'] == 2), 1, 0))\n",
    "pvp_clean['perip 4'] = np.where(pvp_clean['route4_q11'].isna(), np.nan,\n",
    "                                np.where((pvp_clean['route4_q11'] == 1) | (pvp_clean['route4_q11'] == 2), 1, 0))\n",
    "pvp_clean['perip 5'] = np.where(pvp_clean['route5_q14'].isna(), np.nan,\n",
    "                                np.where((pvp_clean['route5_q14'] == 1) | (pvp_clean['route5_q14'] == 2), 1, 0))\n",
    "pvp_clean['perip 6'] = np.where(pvp_clean['route6_q17'].isna(), np.nan,\n",
    "                                np.where((pvp_clean['route6_q17'] == 1) | (pvp_clean['route6_q17'] == 2), 1, 0))"
   ]
  },
  {
   "cell_type": "code",
   "execution_count": 6,
   "id": "0889a990-a628-4aba-a3a3-83d26cfa5b0c",
   "metadata": {},
   "outputs": [],
   "source": [
    "# Create cvc variable derived from continuation route\n",
    "pvp_clean['cvc 7'] = np.where(pvp_clean['case7_q21'].isna(), np.nan,\n",
    "                              np.where((pvp_clean['case7_q21'] == 3) | ((pvp_clean['case7_q21'] == 4)\n",
    "                                 & (pvp_clean['altacc7_q21'] == 3)), 1, 0))\n",
    "pvp_clean['cvc 8'] = np.where(pvp_clean['case8_q24'].isna(), np.nan,\n",
    "                              np.where((pvp_clean['case8_q24'] == 3) | ((pvp_clean['case8_q24'] == 4)\n",
    "                                 & (pvp_clean['altacc8_q24'] == 3)), 1, 0))\n",
    "pvp_clean['cvc 9'] = np.where(pvp_clean['case9_q27'].isna(), np.nan,\n",
    "                              np.where((pvp_clean['case9_q27'] == 3) | ((pvp_clean['case9_q27'] == 4)\n",
    "                                 & (pvp_clean['altacc9_q27'] == 3)), 1, 0))\n",
    "pvp_clean['cvc 10'] = np.where(pvp_clean['case10_q30'].isna(), np.nan,\n",
    "                              np.where((pvp_clean['case10_q30'] == 3) | ((pvp_clean['case10_q30'] == 4)\n",
    "                                 & (pvp_clean['altacc10_q30'] == 3)), 1, 0))\n"
   ]
  },
  {
   "cell_type": "code",
   "execution_count": 7,
   "id": "6adf7c41-ec2c-4ffc-8101-b741e0b9aa88",
   "metadata": {},
   "outputs": [],
   "source": [
    "# Rename all variables to be used as stub names for long transformation\n",
    "pvp_clean.rename({'examq3_n':'exam 1', 'pmhq3_n':'pmh 1', 'fluidq3_n':'volfluid 1', 'mapq3_n':'map 1', 'o2q3_n':'o2 1', 'rrq3_n':'rr 1', 'lactateq3_n':'lactate 1', 'akiq3_n':'aki 1',\n",
    "                   'examq6_n':'exam 2', 'pmhq6_n':'pmh 2', 'akiq6_n':'aki 2', 'fluidq6_n':'volfluid 2', 'mapq6_n':'map 2', 'o2q6_n':'o2 2', 'rrq6_n':'rr 2', 'lactateq6_n':'lactate 2',\n",
    "                   'examq8_n':'exam 3', 'pmhq8_n':'pmh 3', 'akiq8_n':'aki 3', 'lactateq8_n':'lactate 3', 'rrq8_n':'rr 3', 'o2q8_n':'o2 3', 'fluidq8_n':'volfluid 3', 'mapq8_n':'map 3',\n",
    "                   'examq11_n':'exam 4', 'pmhq11_n':'pmh 4', 'akiq11_n':'aki 4', 'lactateq11_n':'lactate 4', 'rrq11_n':'rr 4', 'o2q11_n':'o2 4', 'fluidq11_n':'volfluid 4', 'mapq11_n':'map 4',\n",
    "                   'examq14_n':'exam 5', 'pmhq14_n':'pmh 5', 'rrq14_n':'rr 5', 'o2q14_n':'o2 5', 'akiq14_n':'aki 5', 'lactateq14_n':'lactate 5', 'fluidq14_n':'volfluid 5', 'mapq14_n':'map 5',\n",
    "                   'examq17_n':'exam 6', 'pmhq17_n':'pmh 6', 'rrq17_n':'rr 6', 'o2q17_n':'o2 6', 'akiq17_n': 'aki 6', 'lactateq17_n':'lactate 6', 'fluidq17_n':'volfluid 6', 'mapq17_n':'map 6',\n",
    "                   'locationq21_n':'location 7', 'trendq21_n':'trend 7', 'doseq21_n':'dose 7', 'durationq21_n':'duration 7',\n",
    "                   'locationq24_n':'location 8', 'trendq24_n':'trend 8', 'doseq24_n':'dose 8', 'durationq24_n':'duration 8',\n",
    "                   'locationq27_n':'location 9', 'trendq27_n':'trend 9', 'doseq27_n':'dose 9', 'durationq27_n':'duration 9',\n",
    "                   'locationq30_n':'location 10', 'trendq30_n':'trend 10', 'doseq30_n':'dose 10', 'durationq30_n':'duration 10',\n",
    "                   'diff1_q3': 'diff 1', 'diff2_q6':'diff 2','diff3_q8':'diff 3','diff4_q11':'diff 4','diff5_q14':'diff 5',\n",
    "                   'diff6_q17':'diff 6','altacc7_q21':'altacc 7','altacc8_q24':'altacc 8','altacc9_q27':'altacc 9','altacc10_q30':'altacc 10'},\n",
    "                axis = 1,\n",
    "                inplace = True)"
   ]
  },
  {
   "cell_type": "code",
   "execution_count": 8,
   "id": "55a18f9a-7876-46bc-b1e7-a3c29af77d2e",
   "metadata": {},
   "outputs": [],
   "source": [
    "# Convert data set to long format based on variable stubnames\n",
    "long = pd.wide_to_long(pvp_clean, stubnames=['fluid ', 'pressor ', 'perip ', 'cvc ', \n",
    "                                             'exam ', 'pmh ', 'volfluid ', 'map ', \n",
    "                                             'rr ', 'o2 ', 'aki ', 'lactate ', \n",
    "                                             'location ', 'trend ', 'dose ', 'duration ',\n",
    "                                             'diff ', 'altacc '], i='id', j='case').reset_index()\n",
    "\n",
    "# Remove space from variable names\n",
    "long.rename({'fluid ':'fluid', 'pressor ':'pressor', 'perip ':'perip', \n",
    "             'cvc ':'cvc', 'exam ':'exam', 'pmh ':'pmh', 'volfluid ':'volfluid', \n",
    "             'map ':'map', 'rr ':'rr', 'o2 ':'o2', 'aki ':'aki', 'lactate ':'lactate',\n",
    "             'location ':'location', 'trend ':'trend', 'dose ':'dose', 'duration ':'duration',\n",
    "             'diff ':'diff','altacc ':'altacc'}, axis = 1, inplace = True)"
   ]
  },
  {
   "cell_type": "code",
   "execution_count": 9,
   "id": "16692b1c-8222-4838-ba6f-b0440776f429",
   "metadata": {},
   "outputs": [],
   "source": [
    "# Convert gender variable to 3 levels\n",
    "long['gender'] = pd.factorize(long['gender'])[0]+1\n",
    "long['gender'] = long['gender'].replace({4: 3, 0: 3})\n",
    "\n",
    "# Create cctrain variable\n",
    "long['cctrain'] = np.where(long['specialty'].isna(), np.nan,\n",
    "          np.where((long['specialty'] == 1) | long['specialty'].str.contains('1'), 1, 2))\n",
    "long['cctrain'] = long['cctrain'].fillna(3)\n",
    "\n",
    "# Create spec_area variable (not included in model)\n",
    "long['specialty'] = long['specialty'].fillna(7)\n",
    "long['spec_area'] = long['specialty'].replace({\n",
    "'1,2' : '2',\n",
    "'1,3' : '3',\n",
    "'1,4' : '4',\n",
    "'1,5' : '5',\n",
    "'1,6' : '6',\n",
    "'2,6' : '2',\n",
    "'3,6' : '3',\n",
    "'1,2,3': '3',\n",
    "'1,2,6' : '2',\n",
    "'1,3,6' : '3',\n",
    "'1,2,3' : '3',\n",
    "'1,2,4' : '4',\n",
    "'1,2,4,6' : '4',\n",
    "'1,2,5' : '5'\n",
    "}).astype(int)"
   ]
  },
  {
   "cell_type": "code",
   "execution_count": 10,
   "id": "0bc6ab5a-958e-41d6-bbc6-ca0faa4a2ae3",
   "metadata": {},
   "outputs": [],
   "source": [
    "# Subset outcome and factor variables for regression\n",
    "all_vars = long[['id', 'case', 'exam', 'pmh', 'o2', 'rr', 'aki', 'lactate', \n",
    "                 'volfluid', 'map', 'fluid', 'pressor', 'perip', 'role', 'experience',\n",
    "                 'gender', 'cctrain', 'spec_area', 'practype', 'icutype', 'beds', 'where',\n",
    "                'dose','trend','duration','location','cvc','diff']].copy(deep = True)\n",
    "\n",
    "# Dichotomize difficulty variable\n",
    "all_vars['diff'] = np.where(all_vars['diff'].isna(), np.nan, \n",
    "                                  np.where((all_vars['diff'] == 1) | (all_vars['diff'] == 2), 1, 0))\n",
    "\n",
    "# Combining levels in experience and beds columns to match regression table levels\n",
    "all_vars['experience'] = all_vars['experience'].add(1).floordiv(2)\n",
    "all_vars['beds'] = all_vars['beds'].add(1).floordiv(2)\n",
    "\n",
    "# Convert NaN values to column max\n",
    "all_vars[['role', 'practype', 'icutype', 'where']] = all_vars[['role', 'practype', 'icutype', 'where']].fillna(all_vars.max(), downcast='infer')\n",
    "all_vars[['experience', 'beds']] = all_vars[['experience', 'beds']].fillna(all_vars.max()+1, downcast='infer')"
   ]
  },
  {
   "cell_type": "code",
   "execution_count": 11,
   "id": "a042f111-49b4-4d48-8c45-96dac1ddd2ea",
   "metadata": {},
   "outputs": [],
   "source": [
    "# Convert data set to csv and export to working directory\n",
    "all_vars.to_csv('C:/Users/julienw/OneDrive - Michigan Medicine/Documents/PVP/Data/all_variables.csv',index = False)"
   ]
  },
  {
   "cell_type": "markdown",
   "id": "2c3b8504-5672-4852-ac12-a8432aecad25",
   "metadata": {},
   "source": [
    "### Suppl. Table 2"
   ]
  },
  {
   "cell_type": "code",
   "execution_count": 12,
   "id": "0c03e118-1e7d-4546-aa61-dae55a6d22bd",
   "metadata": {},
   "outputs": [
    {
     "data": {
      "text/html": [
       "<div>\n",
       "<style scoped>\n",
       "    .dataframe tbody tr th:only-of-type {\n",
       "        vertical-align: middle;\n",
       "    }\n",
       "\n",
       "    .dataframe tbody tr th {\n",
       "        vertical-align: top;\n",
       "    }\n",
       "\n",
       "    .dataframe thead th {\n",
       "        text-align: right;\n",
       "    }\n",
       "</style>\n",
       "<table border=\"1\" class=\"dataframe\">\n",
       "  <thead>\n",
       "    <tr style=\"text-align: right;\">\n",
       "      <th></th>\n",
       "      <th>count</th>\n",
       "      <th>percentage</th>\n",
       "    </tr>\n",
       "  </thead>\n",
       "  <tbody>\n",
       "    <tr>\n",
       "      <th>3.0</th>\n",
       "      <td>101</td>\n",
       "      <td>66.447368</td>\n",
       "    </tr>\n",
       "    <tr>\n",
       "      <th>2.0</th>\n",
       "      <td>25</td>\n",
       "      <td>16.447368</td>\n",
       "    </tr>\n",
       "    <tr>\n",
       "      <th>1.0</th>\n",
       "      <td>24</td>\n",
       "      <td>15.789474</td>\n",
       "    </tr>\n",
       "    <tr>\n",
       "      <th>4.0</th>\n",
       "      <td>2</td>\n",
       "      <td>1.315789</td>\n",
       "    </tr>\n",
       "  </tbody>\n",
       "</table>\n",
       "</div>"
      ],
      "text/plain": [
       "     count  percentage\n",
       "3.0    101   66.447368\n",
       "2.0     25   16.447368\n",
       "1.0     24   15.789474\n",
       "4.0      2    1.315789"
      ]
     },
     "execution_count": 12,
     "metadata": {},
     "output_type": "execute_result"
    }
   ],
   "source": [
    "counts = long['altacc'].value_counts()\n",
    "percs = long['altacc'].value_counts(normalize=True)*100\n",
    "pd.concat([counts,percs], axis=1, keys=['count', 'percentage'])"
   ]
  },
  {
   "cell_type": "code",
   "execution_count": null,
   "id": "8b68c392-1504-4670-906e-fa7a2e7c1a9a",
   "metadata": {},
   "outputs": [],
   "source": []
  }
 ],
 "metadata": {
  "kernelspec": {
   "display_name": "Python 3 (ipykernel)",
   "language": "python",
   "name": "python3"
  },
  "language_info": {
   "codemirror_mode": {
    "name": "ipython",
    "version": 3
   },
   "file_extension": ".py",
   "mimetype": "text/x-python",
   "name": "python",
   "nbconvert_exporter": "python",
   "pygments_lexer": "ipython3",
   "version": "3.10.9"
  }
 },
 "nbformat": 4,
 "nbformat_minor": 5
}
