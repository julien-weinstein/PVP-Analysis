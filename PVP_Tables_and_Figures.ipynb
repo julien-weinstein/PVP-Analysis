{
 "cells": [
  {
   "cell_type": "markdown",
   "id": "868b4f8e-bb4d-426d-a1b4-6372a9af90cd",
   "metadata": {},
   "source": [
    "### Imports"
   ]
  },
  {
   "cell_type": "code",
   "execution_count": 1,
   "id": "3e5892f1-b83c-4be0-9c04-ec7c87def2b2",
   "metadata": {},
   "outputs": [],
   "source": [
    "import pandas as pd\n",
    "import numpy as np\n",
    "import matplotlib.pyplot as plt\n",
    "import seaborn as sns"
   ]
  },
  {
   "cell_type": "markdown",
   "id": "85ffbb04-aa91-459b-a488-c1c12c3746a4",
   "metadata": {},
   "source": [
    "### Read in data from cleaned csv with labels and integer values"
   ]
  },
  {
   "cell_type": "code",
   "execution_count": 2,
   "id": "b78cccee-9b06-4d44-8bf1-c55db71c1089",
   "metadata": {},
   "outputs": [],
   "source": [
    "pvp_data = pd.read_csv('C:/Users/julienw/OneDrive - Michigan Medicine/Documents/PVP/Data/pvp_clean_w_labels.csv')"
   ]
  },
  {
   "cell_type": "code",
   "execution_count": 3,
   "id": "ae52973c-6e30-4662-87f5-427959b75dd6",
   "metadata": {},
   "outputs": [],
   "source": [
    "# Drop rows that didn't complete any of Case 1-6\n",
    "pvp_data = pvp_data[pvp_data['case1_q3'].notna() | pvp_data['case2_q6'].notna() \n",
    "                   | pvp_data['case3_q8'].notna() | pvp_data['case4_q11'].notna() |\n",
    "                   pvp_data['case5_q14'].notna() | pvp_data['case6_q17'].notna()]"
   ]
  },
  {
   "cell_type": "markdown",
   "id": "0a775bc5-0236-4474-9804-06113d538a64",
   "metadata": {},
   "source": [
    "### Make dataframe for Table 1 called \"part_chars\""
   ]
  },
  {
   "cell_type": "code",
   "execution_count": 4,
   "id": "41ad9325-81af-4331-b0b3-cbc506c4f344",
   "metadata": {},
   "outputs": [],
   "source": [
    "# Make new df for Table 1 and insert id column from original df\n",
    "part_chars = pvp_data.loc[:, \"role\":\"where\"]\n",
    "part_chars['id'] = pvp_data.id\n",
    "\n",
    "# Move the column to head of list using index, pop and insert\n",
    "cols = list(part_chars)\n",
    "cols.insert(0, cols.pop(cols.index('id')))\n",
    "\n",
    "# Use ix to reorder\n",
    "part_chars = part_chars.loc[:, cols]\n",
    "\n",
    "# Replace NaNs with 'missing'\n",
    "part_chars = part_chars.fillna('missing')"
   ]
  },
  {
   "cell_type": "code",
   "execution_count": 5,
   "id": "e6ae767c-2890-4e27-a8d7-6ac5424ddea7",
   "metadata": {},
   "outputs": [
    {
     "name": "stdout",
     "output_type": "stream",
     "text": [
      "N = 550\n"
     ]
    }
   ],
   "source": [
    "# Total N\n",
    "total = len(part_chars)\n",
    "print(f'N = {total}')"
   ]
  },
  {
   "cell_type": "code",
   "execution_count": 6,
   "id": "54a376db-6090-4d58-adff-4914049c519c",
   "metadata": {},
   "outputs": [
    {
     "data": {
      "text/html": [
       "<div>\n",
       "<style scoped>\n",
       "    .dataframe tbody tr th:only-of-type {\n",
       "        vertical-align: middle;\n",
       "    }\n",
       "\n",
       "    .dataframe tbody tr th {\n",
       "        vertical-align: top;\n",
       "    }\n",
       "\n",
       "    .dataframe thead th {\n",
       "        text-align: right;\n",
       "    }\n",
       "</style>\n",
       "<table border=\"1\" class=\"dataframe\">\n",
       "  <thead>\n",
       "    <tr style=\"text-align: right;\">\n",
       "      <th></th>\n",
       "      <th>count</th>\n",
       "      <th>percentage</th>\n",
       "    </tr>\n",
       "  </thead>\n",
       "  <tbody>\n",
       "    <tr>\n",
       "      <th>Male</th>\n",
       "      <td>261</td>\n",
       "      <td>47.454545</td>\n",
       "    </tr>\n",
       "    <tr>\n",
       "      <th>Female</th>\n",
       "      <td>192</td>\n",
       "      <td>34.909091</td>\n",
       "    </tr>\n",
       "    <tr>\n",
       "      <th>missing</th>\n",
       "      <td>83</td>\n",
       "      <td>15.090909</td>\n",
       "    </tr>\n",
       "    <tr>\n",
       "      <th>Prefer not to answer</th>\n",
       "      <td>13</td>\n",
       "      <td>2.363636</td>\n",
       "    </tr>\n",
       "    <tr>\n",
       "      <th>Non-binary</th>\n",
       "      <td>1</td>\n",
       "      <td>0.181818</td>\n",
       "    </tr>\n",
       "  </tbody>\n",
       "</table>\n",
       "</div>"
      ],
      "text/plain": [
       "                      count  percentage\n",
       "Male                    261   47.454545\n",
       "Female                  192   34.909091\n",
       "missing                  83   15.090909\n",
       "Prefer not to answer     13    2.363636\n",
       "Non-binary                1    0.181818"
      ]
     },
     "execution_count": 6,
     "metadata": {},
     "output_type": "execute_result"
    }
   ],
   "source": [
    "# Generate gender breakdown\n",
    "\n",
    "# Count occurrence of each value in 'gender' column\n",
    "counts = part_chars.gender.value_counts()\n",
    "\n",
    "# Count occurrence of each value in 'gender' column as percentage of total \n",
    "percs = part_chars.gender.value_counts(normalize=True)*100\n",
    "\n",
    "# Concatenate results into one DataFrame\n",
    "pd.concat([counts,percs], axis=1, keys=['count', 'percentage'])"
   ]
  },
  {
   "cell_type": "code",
   "execution_count": 7,
   "id": "d6545a58-fff0-4338-949f-b7b444d28233",
   "metadata": {},
   "outputs": [
    {
     "data": {
      "text/html": [
       "<div>\n",
       "<style scoped>\n",
       "    .dataframe tbody tr th:only-of-type {\n",
       "        vertical-align: middle;\n",
       "    }\n",
       "\n",
       "    .dataframe tbody tr th {\n",
       "        vertical-align: top;\n",
       "    }\n",
       "\n",
       "    .dataframe thead th {\n",
       "        text-align: right;\n",
       "    }\n",
       "</style>\n",
       "<table border=\"1\" class=\"dataframe\">\n",
       "  <thead>\n",
       "    <tr style=\"text-align: right;\">\n",
       "      <th></th>\n",
       "      <th>count</th>\n",
       "      <th>percentage</th>\n",
       "    </tr>\n",
       "  </thead>\n",
       "  <tbody>\n",
       "    <tr>\n",
       "      <th>15+</th>\n",
       "      <td>173</td>\n",
       "      <td>31.454545</td>\n",
       "    </tr>\n",
       "    <tr>\n",
       "      <th>1-5 years</th>\n",
       "      <td>114</td>\n",
       "      <td>20.727273</td>\n",
       "    </tr>\n",
       "    <tr>\n",
       "      <th>missing</th>\n",
       "      <td>85</td>\n",
       "      <td>15.454545</td>\n",
       "    </tr>\n",
       "    <tr>\n",
       "      <th>6-10 years</th>\n",
       "      <td>73</td>\n",
       "      <td>13.272727</td>\n",
       "    </tr>\n",
       "    <tr>\n",
       "      <th>11-15 years</th>\n",
       "      <td>54</td>\n",
       "      <td>9.818182</td>\n",
       "    </tr>\n",
       "    <tr>\n",
       "      <th>training</th>\n",
       "      <td>51</td>\n",
       "      <td>9.272727</td>\n",
       "    </tr>\n",
       "  </tbody>\n",
       "</table>\n",
       "</div>"
      ],
      "text/plain": [
       "             count  percentage\n",
       "15+            173   31.454545\n",
       "1-5 years      114   20.727273\n",
       "missing         85   15.454545\n",
       "6-10 years      73   13.272727\n",
       "11-15 years     54    9.818182\n",
       "training        51    9.272727"
      ]
     },
     "execution_count": 7,
     "metadata": {},
     "output_type": "execute_result"
    }
   ],
   "source": [
    "# Generate Years in Practice Breakdown\n",
    "counts = part_chars.experience.value_counts()\n",
    "percs = part_chars.experience.value_counts(normalize=True)*100\n",
    "pd.concat([counts,percs], axis=1, keys=['count', 'percentage'])"
   ]
  },
  {
   "cell_type": "code",
   "execution_count": 8,
   "id": "51bb0966-52fc-40cc-89ac-e2049551673b",
   "metadata": {},
   "outputs": [
    {
     "data": {
      "text/html": [
       "<div>\n",
       "<style scoped>\n",
       "    .dataframe tbody tr th:only-of-type {\n",
       "        vertical-align: middle;\n",
       "    }\n",
       "\n",
       "    .dataframe tbody tr th {\n",
       "        vertical-align: top;\n",
       "    }\n",
       "\n",
       "    .dataframe thead th {\n",
       "        text-align: right;\n",
       "    }\n",
       "</style>\n",
       "<table border=\"1\" class=\"dataframe\">\n",
       "  <thead>\n",
       "    <tr style=\"text-align: right;\">\n",
       "      <th></th>\n",
       "      <th>count</th>\n",
       "      <th>percentage</th>\n",
       "    </tr>\n",
       "  </thead>\n",
       "  <tbody>\n",
       "    <tr>\n",
       "      <th>Physician</th>\n",
       "      <td>337</td>\n",
       "      <td>61.272727</td>\n",
       "    </tr>\n",
       "    <tr>\n",
       "      <th>APP</th>\n",
       "      <td>101</td>\n",
       "      <td>18.363636</td>\n",
       "    </tr>\n",
       "    <tr>\n",
       "      <th>missing</th>\n",
       "      <td>80</td>\n",
       "      <td>14.545455</td>\n",
       "    </tr>\n",
       "    <tr>\n",
       "      <th>Other</th>\n",
       "      <td>32</td>\n",
       "      <td>5.818182</td>\n",
       "    </tr>\n",
       "  </tbody>\n",
       "</table>\n",
       "</div>"
      ],
      "text/plain": [
       "           count  percentage\n",
       "Physician    337   61.272727\n",
       "APP          101   18.363636\n",
       "missing       80   14.545455\n",
       "Other         32    5.818182"
      ]
     },
     "execution_count": 8,
     "metadata": {},
     "output_type": "execute_result"
    }
   ],
   "source": [
    "# Generate Clinical Role Breakdown\n",
    "counts = part_chars.role.value_counts()\n",
    "percs = part_chars.role.value_counts(normalize=True)*100\n",
    "pd.concat([counts,percs], axis=1, keys=['count', 'percentage'])"
   ]
  },
  {
   "cell_type": "code",
   "execution_count": 9,
   "id": "8699931d-b0d2-498f-8c13-fb1d3ab0786d",
   "metadata": {},
   "outputs": [
    {
     "data": {
      "text/html": [
       "<div>\n",
       "<style scoped>\n",
       "    .dataframe tbody tr th:only-of-type {\n",
       "        vertical-align: middle;\n",
       "    }\n",
       "\n",
       "    .dataframe tbody tr th {\n",
       "        vertical-align: top;\n",
       "    }\n",
       "\n",
       "    .dataframe thead th {\n",
       "        text-align: right;\n",
       "    }\n",
       "</style>\n",
       "<table border=\"1\" class=\"dataframe\">\n",
       "  <thead>\n",
       "    <tr style=\"text-align: right;\">\n",
       "      <th></th>\n",
       "      <th>count</th>\n",
       "      <th>percentage</th>\n",
       "    </tr>\n",
       "  </thead>\n",
       "  <tbody>\n",
       "    <tr>\n",
       "      <th>Academic</th>\n",
       "      <td>294</td>\n",
       "      <td>53.454545</td>\n",
       "    </tr>\n",
       "    <tr>\n",
       "      <th>Other</th>\n",
       "      <td>91</td>\n",
       "      <td>16.545455</td>\n",
       "    </tr>\n",
       "    <tr>\n",
       "      <th>Private practice</th>\n",
       "      <td>83</td>\n",
       "      <td>15.090909</td>\n",
       "    </tr>\n",
       "    <tr>\n",
       "      <th>missing</th>\n",
       "      <td>82</td>\n",
       "      <td>14.909091</td>\n",
       "    </tr>\n",
       "  </tbody>\n",
       "</table>\n",
       "</div>"
      ],
      "text/plain": [
       "                  count  percentage\n",
       "Academic            294   53.454545\n",
       "Other                91   16.545455\n",
       "Private practice     83   15.090909\n",
       "missing              82   14.909091"
      ]
     },
     "execution_count": 9,
     "metadata": {},
     "output_type": "execute_result"
    }
   ],
   "source": [
    "# Generate Clinical Environment Breakdown\n",
    "counts = part_chars.practype.value_counts()\n",
    "percs = part_chars.practype.value_counts(normalize=True)*100\n",
    "pd.concat([counts,percs], axis=1, keys=['count', 'percentage'])"
   ]
  },
  {
   "cell_type": "markdown",
   "id": "72df5f6b-1474-4b6c-81bc-fd1d3f4bc354",
   "metadata": {
    "tags": []
   },
   "source": [
    "### Specialty Modification"
   ]
  },
  {
   "cell_type": "code",
   "execution_count": 10,
   "id": "be091686-8129-40a5-b3dc-06294eae7400",
   "metadata": {},
   "outputs": [
    {
     "data": {
      "text/plain": [
       "1          369\n",
       "missing     81\n",
       "3           73\n",
       "2           63\n",
       "5           60\n",
       "6           49\n",
       "4           35\n",
       "7          160\n",
       "dtype: int64"
      ]
     },
     "execution_count": 10,
     "metadata": {},
     "output_type": "execute_result"
    }
   ],
   "source": [
    "# Old Specialty Breakdown\n",
    "pd.concat([part_chars['specialty'].str.split(',').explode().value_counts(),\n",
    "                 pd.Series([part_chars['specialty'].str.contains(',').sum()], index=[7])])"
   ]
  },
  {
   "cell_type": "code",
   "execution_count": 11,
   "id": "4712d380-314e-4c1b-b50a-9dd30224fec9",
   "metadata": {},
   "outputs": [],
   "source": [
    "part_chars['spec_area'] = part_chars['specialty'].replace({\n",
    "'1,2' : '2',\n",
    "'1,3' : '3',\n",
    "'1,4' : '4',\n",
    "'1,5' : '5',\n",
    "'1,6' : '6',\n",
    "'2,6' : '2',\n",
    "'3,6' : '3',\n",
    "'1,2,3': '3',\n",
    "'1,2,6' : '2',\n",
    "'1,3,6' : '3',\n",
    "'1,2,3' : '3',\n",
    "'1,2,4' : '4',\n",
    "'1,2,4,6' : '4',\n",
    "'1,2,5' : '5'\n",
    "})"
   ]
  },
  {
   "cell_type": "code",
   "execution_count": 12,
   "id": "420d86cb-5fb8-45f3-b9b6-1e1550a4279c",
   "metadata": {},
   "outputs": [
    {
     "data": {
      "text/html": [
       "<div>\n",
       "<style scoped>\n",
       "    .dataframe tbody tr th:only-of-type {\n",
       "        vertical-align: middle;\n",
       "    }\n",
       "\n",
       "    .dataframe tbody tr th {\n",
       "        vertical-align: top;\n",
       "    }\n",
       "\n",
       "    .dataframe thead th {\n",
       "        text-align: right;\n",
       "    }\n",
       "</style>\n",
       "<table border=\"1\" class=\"dataframe\">\n",
       "  <thead>\n",
       "    <tr style=\"text-align: right;\">\n",
       "      <th></th>\n",
       "      <th>count</th>\n",
       "      <th>percentage</th>\n",
       "    </tr>\n",
       "  </thead>\n",
       "  <tbody>\n",
       "    <tr>\n",
       "      <th>1</th>\n",
       "      <td>211</td>\n",
       "      <td>38.363636</td>\n",
       "    </tr>\n",
       "    <tr>\n",
       "      <th>missing</th>\n",
       "      <td>81</td>\n",
       "      <td>14.727273</td>\n",
       "    </tr>\n",
       "    <tr>\n",
       "      <th>3</th>\n",
       "      <td>73</td>\n",
       "      <td>13.272727</td>\n",
       "    </tr>\n",
       "    <tr>\n",
       "      <th>5</th>\n",
       "      <td>60</td>\n",
       "      <td>10.909091</td>\n",
       "    </tr>\n",
       "    <tr>\n",
       "      <th>2</th>\n",
       "      <td>53</td>\n",
       "      <td>9.636364</td>\n",
       "    </tr>\n",
       "    <tr>\n",
       "      <th>6</th>\n",
       "      <td>37</td>\n",
       "      <td>6.727273</td>\n",
       "    </tr>\n",
       "    <tr>\n",
       "      <th>4</th>\n",
       "      <td>35</td>\n",
       "      <td>6.363636</td>\n",
       "    </tr>\n",
       "  </tbody>\n",
       "</table>\n",
       "</div>"
      ],
      "text/plain": [
       "         count  percentage\n",
       "1          211   38.363636\n",
       "missing     81   14.727273\n",
       "3           73   13.272727\n",
       "5           60   10.909091\n",
       "2           53    9.636364\n",
       "6           37    6.727273\n",
       "4           35    6.363636"
      ]
     },
     "execution_count": 12,
     "metadata": {},
     "output_type": "execute_result"
    }
   ],
   "source": [
    "# Generate Specialty Area Breakdown\n",
    "counts = part_chars.spec_area.value_counts()\n",
    "percs = part_chars.spec_area.value_counts(normalize=True)*100\n",
    "pd.concat([counts,percs], axis=1, keys=['count', 'percentage'])"
   ]
  },
  {
   "cell_type": "code",
   "execution_count": 13,
   "id": "31923fb1-d4ea-4054-a1e4-f9f25e170581",
   "metadata": {},
   "outputs": [],
   "source": [
    "# Generate cc_train variable\n",
    "part_chars['cctrain'] = np.where(part_chars['specialty'] == 'missing', 'missing',\n",
    "          np.where((part_chars['specialty'] == 1) | part_chars['specialty'].str.contains('1'), 1, 0))"
   ]
  },
  {
   "cell_type": "code",
   "execution_count": 14,
   "id": "f4ff6e1e-3bcc-40b4-927e-77ac64152e73",
   "metadata": {},
   "outputs": [
    {
     "data": {
      "text/html": [
       "<div>\n",
       "<style scoped>\n",
       "    .dataframe tbody tr th:only-of-type {\n",
       "        vertical-align: middle;\n",
       "    }\n",
       "\n",
       "    .dataframe tbody tr th {\n",
       "        vertical-align: top;\n",
       "    }\n",
       "\n",
       "    .dataframe thead th {\n",
       "        text-align: right;\n",
       "    }\n",
       "</style>\n",
       "<table border=\"1\" class=\"dataframe\">\n",
       "  <thead>\n",
       "    <tr style=\"text-align: right;\">\n",
       "      <th></th>\n",
       "      <th>count</th>\n",
       "      <th>percentage</th>\n",
       "    </tr>\n",
       "  </thead>\n",
       "  <tbody>\n",
       "    <tr>\n",
       "      <th>1</th>\n",
       "      <td>369</td>\n",
       "      <td>67.090909</td>\n",
       "    </tr>\n",
       "    <tr>\n",
       "      <th>0</th>\n",
       "      <td>100</td>\n",
       "      <td>18.181818</td>\n",
       "    </tr>\n",
       "    <tr>\n",
       "      <th>missing</th>\n",
       "      <td>81</td>\n",
       "      <td>14.727273</td>\n",
       "    </tr>\n",
       "  </tbody>\n",
       "</table>\n",
       "</div>"
      ],
      "text/plain": [
       "         count  percentage\n",
       "1          369   67.090909\n",
       "0          100   18.181818\n",
       "missing     81   14.727273"
      ]
     },
     "execution_count": 14,
     "metadata": {},
     "output_type": "execute_result"
    }
   ],
   "source": [
    "# Generate Critical Care Training Breakdown\n",
    "counts = part_chars.cctrain.value_counts()\n",
    "percs = part_chars.cctrain.value_counts(normalize=True)*100\n",
    "pd.concat([counts,percs], axis=1, keys=['count', 'percentage'])"
   ]
  },
  {
   "cell_type": "code",
   "execution_count": 15,
   "id": "87b8bdba-b7b6-4c1d-92bb-6a8998ebca4e",
   "metadata": {},
   "outputs": [
    {
     "data": {
      "text/html": [
       "<div>\n",
       "<style scoped>\n",
       "    .dataframe tbody tr th:only-of-type {\n",
       "        vertical-align: middle;\n",
       "    }\n",
       "\n",
       "    .dataframe tbody tr th {\n",
       "        vertical-align: top;\n",
       "    }\n",
       "\n",
       "    .dataframe thead th {\n",
       "        text-align: right;\n",
       "    }\n",
       "</style>\n",
       "<table border=\"1\" class=\"dataframe\">\n",
       "  <thead>\n",
       "    <tr style=\"text-align: right;\">\n",
       "      <th></th>\n",
       "      <th>count</th>\n",
       "      <th>percentage</th>\n",
       "    </tr>\n",
       "  </thead>\n",
       "  <tbody>\n",
       "    <tr>\n",
       "      <th>Mixed</th>\n",
       "      <td>221</td>\n",
       "      <td>40.181818</td>\n",
       "    </tr>\n",
       "    <tr>\n",
       "      <th>Medical</th>\n",
       "      <td>118</td>\n",
       "      <td>21.454545</td>\n",
       "    </tr>\n",
       "    <tr>\n",
       "      <th>Surgical</th>\n",
       "      <td>97</td>\n",
       "      <td>17.636364</td>\n",
       "    </tr>\n",
       "    <tr>\n",
       "      <th>missing</th>\n",
       "      <td>84</td>\n",
       "      <td>15.272727</td>\n",
       "    </tr>\n",
       "    <tr>\n",
       "      <th>Other</th>\n",
       "      <td>30</td>\n",
       "      <td>5.454545</td>\n",
       "    </tr>\n",
       "  </tbody>\n",
       "</table>\n",
       "</div>"
      ],
      "text/plain": [
       "          count  percentage\n",
       "Mixed       221   40.181818\n",
       "Medical     118   21.454545\n",
       "Surgical     97   17.636364\n",
       "missing      84   15.272727\n",
       "Other        30    5.454545"
      ]
     },
     "execution_count": 15,
     "metadata": {},
     "output_type": "execute_result"
    }
   ],
   "source": [
    "# Generate ICU Type Breakdown\n",
    "counts = part_chars.icutype.value_counts()\n",
    "percs = part_chars.icutype.value_counts(normalize=True)*100\n",
    "pd.concat([counts,percs], axis=1, keys=['count', 'percentage'])"
   ]
  },
  {
   "cell_type": "code",
   "execution_count": 16,
   "id": "9b3e78b8-b6c6-4f4c-9ba6-8dd826e15ace",
   "metadata": {},
   "outputs": [
    {
     "data": {
      "text/html": [
       "<div>\n",
       "<style scoped>\n",
       "    .dataframe tbody tr th:only-of-type {\n",
       "        vertical-align: middle;\n",
       "    }\n",
       "\n",
       "    .dataframe tbody tr th {\n",
       "        vertical-align: top;\n",
       "    }\n",
       "\n",
       "    .dataframe thead th {\n",
       "        text-align: right;\n",
       "    }\n",
       "</style>\n",
       "<table border=\"1\" class=\"dataframe\">\n",
       "  <thead>\n",
       "    <tr style=\"text-align: right;\">\n",
       "      <th></th>\n",
       "      <th>count</th>\n",
       "      <th>percentage</th>\n",
       "    </tr>\n",
       "  </thead>\n",
       "  <tbody>\n",
       "    <tr>\n",
       "      <th>11-20</th>\n",
       "      <td>175</td>\n",
       "      <td>31.818182</td>\n",
       "    </tr>\n",
       "    <tr>\n",
       "      <th>21-30</th>\n",
       "      <td>144</td>\n",
       "      <td>26.181818</td>\n",
       "    </tr>\n",
       "    <tr>\n",
       "      <th>missing</th>\n",
       "      <td>81</td>\n",
       "      <td>14.727273</td>\n",
       "    </tr>\n",
       "    <tr>\n",
       "      <th>31-40</th>\n",
       "      <td>62</td>\n",
       "      <td>11.272727</td>\n",
       "    </tr>\n",
       "    <tr>\n",
       "      <th>41+</th>\n",
       "      <td>58</td>\n",
       "      <td>10.545455</td>\n",
       "    </tr>\n",
       "    <tr>\n",
       "      <th>0-10</th>\n",
       "      <td>30</td>\n",
       "      <td>5.454545</td>\n",
       "    </tr>\n",
       "  </tbody>\n",
       "</table>\n",
       "</div>"
      ],
      "text/plain": [
       "         count  percentage\n",
       "11-20      175   31.818182\n",
       "21-30      144   26.181818\n",
       "missing     81   14.727273\n",
       "31-40       62   11.272727\n",
       "41+         58   10.545455\n",
       "0-10        30    5.454545"
      ]
     },
     "execution_count": 16,
     "metadata": {},
     "output_type": "execute_result"
    }
   ],
   "source": [
    "# Generate ICU Beds Breakdown\n",
    "counts = part_chars.beds.value_counts()\n",
    "percs = part_chars.beds.value_counts(normalize=True)*100\n",
    "pd.concat([counts,percs], axis=1, keys=['count', 'percentage'])"
   ]
  },
  {
   "cell_type": "code",
   "execution_count": 17,
   "id": "c6c0dac3-5510-4584-af48-cd0339938b25",
   "metadata": {},
   "outputs": [
    {
     "data": {
      "text/html": [
       "<div>\n",
       "<style scoped>\n",
       "    .dataframe tbody tr th:only-of-type {\n",
       "        vertical-align: middle;\n",
       "    }\n",
       "\n",
       "    .dataframe tbody tr th {\n",
       "        vertical-align: top;\n",
       "    }\n",
       "\n",
       "    .dataframe thead th {\n",
       "        text-align: right;\n",
       "    }\n",
       "</style>\n",
       "<table border=\"1\" class=\"dataframe\">\n",
       "  <thead>\n",
       "    <tr style=\"text-align: right;\">\n",
       "      <th></th>\n",
       "      <th>count</th>\n",
       "      <th>percentage</th>\n",
       "    </tr>\n",
       "  </thead>\n",
       "  <tbody>\n",
       "    <tr>\n",
       "      <th>Northeast</th>\n",
       "      <td>141</td>\n",
       "      <td>25.636364</td>\n",
       "    </tr>\n",
       "    <tr>\n",
       "      <th>Midwest</th>\n",
       "      <td>121</td>\n",
       "      <td>22.000000</td>\n",
       "    </tr>\n",
       "    <tr>\n",
       "      <th>south</th>\n",
       "      <td>118</td>\n",
       "      <td>21.454545</td>\n",
       "    </tr>\n",
       "    <tr>\n",
       "      <th>west</th>\n",
       "      <td>88</td>\n",
       "      <td>16.000000</td>\n",
       "    </tr>\n",
       "    <tr>\n",
       "      <th>missing</th>\n",
       "      <td>80</td>\n",
       "      <td>14.545455</td>\n",
       "    </tr>\n",
       "    <tr>\n",
       "      <th>outside</th>\n",
       "      <td>2</td>\n",
       "      <td>0.363636</td>\n",
       "    </tr>\n",
       "  </tbody>\n",
       "</table>\n",
       "</div>"
      ],
      "text/plain": [
       "           count  percentage\n",
       "Northeast    141   25.636364\n",
       "Midwest      121   22.000000\n",
       "south        118   21.454545\n",
       "west          88   16.000000\n",
       "missing       80   14.545455\n",
       "outside        2    0.363636"
      ]
     },
     "execution_count": 17,
     "metadata": {},
     "output_type": "execute_result"
    }
   ],
   "source": [
    "# Generate Region Breakdown\n",
    "counts = part_chars['where'].value_counts()\n",
    "percs = part_chars['where'].value_counts(normalize=True)*100\n",
    "pd.concat([counts,percs], axis=1, keys=['count', 'percentage'])"
   ]
  },
  {
   "cell_type": "markdown",
   "id": "27440b2a-dc77-4492-9e59-efc4f68587f9",
   "metadata": {},
   "source": [
    "### Table 2"
   ]
  },
  {
   "cell_type": "code",
   "execution_count": 18,
   "id": "22165ffc-db73-4dc1-b45c-b918edde8f40",
   "metadata": {},
   "outputs": [
    {
     "data": {
      "text/html": [
       "<div>\n",
       "<style scoped>\n",
       "    .dataframe tbody tr th:only-of-type {\n",
       "        vertical-align: middle;\n",
       "    }\n",
       "\n",
       "    .dataframe tbody tr th {\n",
       "        vertical-align: top;\n",
       "    }\n",
       "\n",
       "    .dataframe thead th {\n",
       "        text-align: right;\n",
       "    }\n",
       "</style>\n",
       "<table border=\"1\" class=\"dataframe\">\n",
       "  <thead>\n",
       "    <tr style=\"text-align: right;\">\n",
       "      <th></th>\n",
       "      <th>count</th>\n",
       "      <th>percentage</th>\n",
       "    </tr>\n",
       "  </thead>\n",
       "  <tbody>\n",
       "    <tr>\n",
       "      <th>Personal practice</th>\n",
       "      <td>242</td>\n",
       "      <td>44.000000</td>\n",
       "    </tr>\n",
       "    <tr>\n",
       "      <th>Hospital Policy</th>\n",
       "      <td>136</td>\n",
       "      <td>24.727273</td>\n",
       "    </tr>\n",
       "    <tr>\n",
       "      <th>missing</th>\n",
       "      <td>74</td>\n",
       "      <td>13.454545</td>\n",
       "    </tr>\n",
       "    <tr>\n",
       "      <th>Other</th>\n",
       "      <td>64</td>\n",
       "      <td>11.636364</td>\n",
       "    </tr>\n",
       "    <tr>\n",
       "      <th>Nursing Preference</th>\n",
       "      <td>34</td>\n",
       "      <td>6.181818</td>\n",
       "    </tr>\n",
       "  </tbody>\n",
       "</table>\n",
       "</div>"
      ],
      "text/plain": [
       "                    count  percentage\n",
       "Personal practice     242   44.000000\n",
       "Hospital Policy       136   24.727273\n",
       "missing                74   13.454545\n",
       "Other                  64   11.636364\n",
       "Nursing Preference     34    6.181818"
      ]
     },
     "execution_count": 18,
     "metadata": {},
     "output_type": "execute_result"
    }
   ],
   "source": [
    "# Generate Practice Policy Breakdown\n",
    "\n",
    "# Replace NaNs with 'missing'\n",
    "pvp_data['infl_factors'] = pvp_data['infl_factors'].fillna('missing')\n",
    "\n",
    "counts = pvp_data['infl_factors'].value_counts()\n",
    "percs = pvp_data['infl_factors'].value_counts(normalize=True)*100\n",
    "pd.concat([counts,percs], axis=1, keys=['count', 'percentage'])"
   ]
  },
  {
   "cell_type": "markdown",
   "id": "ddd6c25f-e713-42bf-ac8f-1f2a47ef692d",
   "metadata": {},
   "source": [
    "### Table 3"
   ]
  },
  {
   "cell_type": "code",
   "execution_count": 19,
   "id": "c04a1928-7055-4e6b-8a83-9b109e2d186d",
   "metadata": {},
   "outputs": [
    {
     "data": {
      "text/html": [
       "<div>\n",
       "<style scoped>\n",
       "    .dataframe tbody tr th:only-of-type {\n",
       "        vertical-align: middle;\n",
       "    }\n",
       "\n",
       "    .dataframe tbody tr th {\n",
       "        vertical-align: top;\n",
       "    }\n",
       "\n",
       "    .dataframe thead th {\n",
       "        text-align: right;\n",
       "    }\n",
       "</style>\n",
       "<table border=\"1\" class=\"dataframe\">\n",
       "  <thead>\n",
       "    <tr style=\"text-align: right;\">\n",
       "      <th></th>\n",
       "      <th>count</th>\n",
       "      <th>percentage</th>\n",
       "    </tr>\n",
       "  </thead>\n",
       "  <tbody>\n",
       "    <tr>\n",
       "      <th>Very realistic</th>\n",
       "      <td>251</td>\n",
       "      <td>45.636364</td>\n",
       "    </tr>\n",
       "    <tr>\n",
       "      <th>Somewhat realistic</th>\n",
       "      <td>204</td>\n",
       "      <td>37.090909</td>\n",
       "    </tr>\n",
       "    <tr>\n",
       "      <th>missing</th>\n",
       "      <td>73</td>\n",
       "      <td>13.272727</td>\n",
       "    </tr>\n",
       "    <tr>\n",
       "      <th>Somewhat unrealistic</th>\n",
       "      <td>20</td>\n",
       "      <td>3.636364</td>\n",
       "    </tr>\n",
       "    <tr>\n",
       "      <th>Unrealistic</th>\n",
       "      <td>2</td>\n",
       "      <td>0.363636</td>\n",
       "    </tr>\n",
       "  </tbody>\n",
       "</table>\n",
       "</div>"
      ],
      "text/plain": [
       "                      count  percentage\n",
       "Very realistic          251   45.636364\n",
       "Somewhat realistic      204   37.090909\n",
       "missing                  73   13.272727\n",
       "Somewhat unrealistic     20    3.636364\n",
       "Unrealistic               2    0.363636"
      ]
     },
     "execution_count": 19,
     "metadata": {},
     "output_type": "execute_result"
    }
   ],
   "source": [
    "# Generate Realism Breakdown\n",
    "\n",
    "# Replace NaNs with 'missing'\n",
    "pvp_data['realism'] = pvp_data['realism'].fillna('missing')\n",
    "\n",
    "counts = pvp_data['realism'].value_counts()\n",
    "percs = pvp_data['realism'].value_counts(normalize=True)*100\n",
    "pd.concat([counts,percs], axis=1, keys=['count', 'percentage'])"
   ]
  },
  {
   "cell_type": "markdown",
   "id": "4229c2bc-96df-4055-9832-501db712bfd3",
   "metadata": {},
   "source": [
    "### Plots for Figure 1\n",
    "\n",
    "Question: The dataframe subsetted by gender input contains a few missing values for some fields. Is this okay?"
   ]
  },
  {
   "cell_type": "markdown",
   "id": "c879d242-a4db-430b-b6d5-464c80a39b85",
   "metadata": {
    "tags": []
   },
   "source": [
    "### Usual Fluid"
   ]
  },
  {
   "cell_type": "code",
   "execution_count": 20,
   "id": "d23c5e30-a120-488d-917e-3998c0fb74e8",
   "metadata": {},
   "outputs": [],
   "source": [
    "plt.rcParams.update({'font.size': 15})"
   ]
  },
  {
   "cell_type": "code",
   "execution_count": 21,
   "id": "b14648fe-f95e-4c95-ba21-3aa7acc10611",
   "metadata": {},
   "outputs": [
    {
     "name": "stdout",
     "output_type": "stream",
     "text": [
      "N = 471\n"
     ]
    }
   ],
   "source": [
    "print(f\"N = {len(pvp_data['usual_fluid'].dropna())}\")"
   ]
  },
  {
   "cell_type": "code",
   "execution_count": 22,
   "id": "c7e8b63c-83d5-4b15-90eb-f2d81b02bd28",
   "metadata": {},
   "outputs": [
    {
     "data": {
      "image/png": "[encoded data removed]",
      "text/plain": [
       "<Figure size 640x480 with 1 Axes>"
      ]
     },
     "metadata": {},
     "output_type": "display_data"
    }
   ],
   "source": [
    "# Plotting Fluids in 6 hours \n",
    "ax = sns.histplot(\n",
    "    data=pvp_data,\n",
    "    x='usual_fluid',\n",
    "    discrete=True,\n",
    "    stat='percent',\n",
    "    color = 'blue'\n",
    ")\n",
    "ax.set(xlabel='Fluids in 6 hours (L)', ylabel='Percent of \\n Respondents', \n",
    "       ylim = [0,60])\n",
    "ax.set_xticks(np.arange(0,11,1))\n",
    "ax.set_ylabel(ax.get_ylabel(), rotation = 0, ha = 'right')\n",
    "ax.tick_params(left = False, bottom = False)\n",
    "ax.tick_params(axis='x', which='major', pad=1)\n",
    "ax.spines[['right', 'top']].set_visible(False)\n",
    "#ax.legend(f\"N = {len(pvp_data['usual_fluid'])}\")\n",
    "ax.annotate(\"N = 471\", xy=(0.8,0.9),xycoords='axes fraction',\n",
    "             fontsize=14)\n",
    "ax.yaxis.set_major_locator(plt.MultipleLocator(25))\n"
   ]
  },
  {
   "cell_type": "markdown",
   "id": "1078b82f-fa87-4dac-a46b-f1a5dc2f8386",
   "metadata": {},
   "source": [
    "### MAP Goal"
   ]
  },
  {
   "cell_type": "code",
   "execution_count": 23,
   "id": "2e0172d9-0822-4f8b-84d6-53ac56bfca20",
   "metadata": {},
   "outputs": [
    {
     "name": "stdout",
     "output_type": "stream",
     "text": [
      "N = 472\n"
     ]
    }
   ],
   "source": [
    "print(f\"N = {len(pvp_data['usual_map'].dropna())}\")"
   ]
  },
  {
   "cell_type": "code",
   "execution_count": 24,
   "id": "44a2e1f5-aaba-4bfd-b9f0-a5b3675f759f",
   "metadata": {},
   "outputs": [
    {
     "data": {
      "image/png": "[encoded data removed]",
      "text/plain": [
       "<Figure size 640x480 with 1 Axes>"
      ]
     },
     "metadata": {},
     "output_type": "display_data"
    }
   ],
   "source": [
    "# Plotting MAP Goal\n",
    "import pylab as plt\n",
    "import seaborn as sns\n",
    "\n",
    "tips = sns.load_dataset(\"tips\")\n",
    "fig, ax = plt.subplots()\n",
    "\n",
    "ax = sns.histplot(\n",
    "    data=pvp_data,\n",
    "    x='usual_map',\n",
    "    discrete=True,\n",
    "    stat = 'percent',\n",
    "    #shrink = 0.98,\n",
    "    color = 'blue'\n",
    ")\n",
    "ax.set(xlabel='MAP Goal (mmHg)', ylabel='Percent of \\n Respondents')\n",
    "       #yscale = 'log')\n",
    "ax.set_ylabel(ax.get_ylabel(), rotation = 0, ha = 'right', labelpad = 10)\n",
    "ax.tick_params(left = False, bottom = False)\n",
    "ax.spines[['right', 'top']].set_visible(False)\n",
    "ax.tick_params(axis='x', which='major', pad=1)\n",
    "ax.get_yaxis().set_tick_params(which='minor', size=0)\n",
    "ax.get_yaxis().set_tick_params(which='minor', width=0) \n",
    "ax.annotate(\"N = 472\", xy=(0.8,0.9),xycoords='axes fraction',\n",
    "             fontsize=14)\n",
    "ax.yaxis.set_major_locator(plt.MultipleLocator(25))\n",
    "def change_width(ax, new_value) :\n",
    "    for patch in ax.patches :\n",
    "        current_width = patch.get_width()\n",
    "        diff = current_width - new_value\n",
    "\n",
    "        # we change the bar width\n",
    "        patch.set_width(new_value)\n",
    "\n",
    "        # we recenter the bar\n",
    "        patch.set_x(patch.get_x() + diff * .5)\n",
    "\n",
    "change_width(ax, 3.35)\n",
    "plt.show()\n",
    "#ax.bar(6,width = 5)"
   ]
  },
  {
   "cell_type": "markdown",
   "id": "8dab3b15-6a32-42ef-afff-b83b2d0e8869",
   "metadata": {},
   "source": [
    "### Vasopressor Timing"
   ]
  },
  {
   "cell_type": "code",
   "execution_count": 25,
   "id": "35a526be-1ed2-408e-bd03-2d98647d2e6f",
   "metadata": {},
   "outputs": [
    {
     "name": "stdout",
     "output_type": "stream",
     "text": [
      "N = 474\n"
     ]
    }
   ],
   "source": [
    "print(f\"N = {len(pvp_data['usual_vp'].dropna())}\")"
   ]
  },
  {
   "cell_type": "code",
   "execution_count": 26,
   "id": "5945cc3b-96f6-4222-96d0-55f7dd9a395d",
   "metadata": {},
   "outputs": [
    {
     "name": "stderr",
     "output_type": "stream",
     "text": [
      "C:\\Users\\julienw\\AppData\\Local\\Temp\\ipykernel_10956\\3317979001.py:18: UserWarning: FixedFormatter should only be used together with FixedLocator\n",
      "  ax.set_xticklabels(['Before Giving Fluid', 'While Giving Fluid', 'After Giving Fluid'], fontsize = 12)\n"
     ]
    },
    {
     "data": {
      "image/png": "[encoded data removed]",
      "text/plain": [
       "<Figure size 640x480 with 1 Axes>"
      ]
     },
     "metadata": {},
     "output_type": "display_data"
    }
   ],
   "source": [
    "# Plotting Vasopressor Timing\n",
    "pvp_data['usual_vp'] = pd.Categorical(pvp_data['usual_vp'],\n",
    "                                   categories=['Before giving fluid', 'while giving fluid', 'After giving fluid'],\n",
    "                                   ordered=True\n",
    "                                  )\n",
    "ax = sns.histplot(\n",
    "    data=pvp_data,\n",
    "    x='usual_vp',\n",
    "    discrete=True,\n",
    "    shrink = 0.35,\n",
    "    stat='percent',\n",
    "    color = 'blue',\n",
    ")\n",
    "ax.set(xlabel='Vasopressor Timing', ylabel='Percent of \\n Respondents', \n",
    "       ylim = [0,60])\n",
    "ax.set_ylabel(ax.get_ylabel(), rotation = 0, ha = 'right')\n",
    "ax.set_xlabel(ax.get_xlabel(), labelpad = 10)\n",
    "ax.set_xticklabels(['Before Giving Fluid', 'While Giving Fluid', 'After Giving Fluid'], fontsize = 12)\n",
    "ax.tick_params(left = False, bottom = False)\n",
    "ax.spines[['right', 'top']].set_visible(False)\n",
    "ax.annotate(\"N = 474\", xy=(1.0,0.9),xycoords='axes fraction',\n",
    "             fontsize=14)\n",
    "ax.yaxis.set_major_locator(plt.MultipleLocator(25))\n",
    "ax.tick_params(axis='x', which='major', pad=1)\n",
    "ax.margins(x=0.1)"
   ]
  },
  {
   "cell_type": "code",
   "execution_count": 27,
   "id": "1181bc5b-29b5-46b9-95c7-0566e8070b2a",
   "metadata": {},
   "outputs": [
    {
     "name": "stdout",
     "output_type": "stream",
     "text": [
      "N = 470\n"
     ]
    }
   ],
   "source": [
    "print(f\"N = {len(pvp_data['usual_cl'].dropna())}\")"
   ]
  },
  {
   "cell_type": "code",
   "execution_count": 28,
   "id": "f667c76e-e286-426e-b38f-e041e1dd91a2",
   "metadata": {},
   "outputs": [
    {
     "name": "stderr",
     "output_type": "stream",
     "text": [
      "C:\\Users\\julienw\\AppData\\Local\\Temp\\ipykernel_10956\\198545841.py:17: UserWarning: FixedFormatter should only be used together with FixedLocator\n",
      "  ax.set_xticklabels(['Never', 'Rarely', 'Sometimes', 'Often', 'Always'], fontsize = 12)\n"
     ]
    },
    {
     "data": {
      "image/png": "[encoded data removed]",
      "text/plain": [
       "<Figure size 640x480 with 1 Axes>"
      ]
     },
     "metadata": {},
     "output_type": "display_data"
    }
   ],
   "source": [
    "# Plotting Route of VP administration\n",
    "pvp_data.usual_cl = pd.Categorical(pvp_data.usual_cl,\n",
    "                                   categories=['Never', 'Rarely', 'Sometimes', 'Often', 'Always'],\n",
    "                                   ordered=True\n",
    "                                  )\n",
    "ax = sns.histplot(\n",
    "    data=pvp_data,\n",
    "    x='usual_cl',\n",
    "    discrete=True,\n",
    "    #shrink = 0.85,\n",
    "    stat='percent',\n",
    "    color = 'blue',\n",
    ")\n",
    "ax.set(xlabel='Place a central line to start vasopressors', ylabel='Percent of \\n Respondents', ylim = [0,60])\n",
    "ax.set_ylabel(ax.get_ylabel(), rotation = 0, ha = 'right', labelpad = 15)\n",
    "ax.set_xlabel(ax.get_xlabel(), labelpad = 10)\n",
    "ax.set_xticklabels(['Never', 'Rarely', 'Sometimes', 'Often', 'Always'], fontsize = 12)\n",
    "ax.tick_params(left = False, bottom = False)\n",
    "ax.annotate(\"N = 470\", xy=(0.8,0.9),xycoords='axes fraction',\n",
    "             fontsize=14)\n",
    "ax.yaxis.set_major_locator(plt.MultipleLocator(25))\n",
    "ax.spines[['right', 'top']].set_visible(False)\n",
    "ax.margins(x = 0.08)"
   ]
  },
  {
   "cell_type": "markdown",
   "id": "2d04bd73-0b98-4379-b3e0-48bce436e914",
   "metadata": {},
   "source": [
    "### Figure 3"
   ]
  },
  {
   "cell_type": "code",
   "execution_count": 29,
   "id": "3d4db29a-9eca-44ee-b399-e8d4ab836489",
   "metadata": {},
   "outputs": [],
   "source": [
    "fig_3a = pvp_data[['route1_q3','route3_q8','route5_q14']].copy(deep = True)\n",
    "fig_3a = pd.Series(fig_3a.stack().values)"
   ]
  },
  {
   "cell_type": "code",
   "execution_count": 30,
   "id": "5493b37d-8d31-4460-8ad9-2deb9b9a2fd5",
   "metadata": {},
   "outputs": [
    {
     "data": {
      "text/plain": [
       "1127"
      ]
     },
     "execution_count": 30,
     "metadata": {},
     "output_type": "execute_result"
    }
   ],
   "source": [
    "len(fig_3a.dropna())"
   ]
  },
  {
   "cell_type": "code",
   "execution_count": 31,
   "id": "00a7c164-c633-45bd-a25d-dc75cdb5a739",
   "metadata": {},
   "outputs": [
    {
     "name": "stderr",
     "output_type": "stream",
     "text": [
      "C:\\Users\\julienw\\AppData\\Local\\Temp\\ipykernel_10956\\3556967888.py:17: UserWarning: FixedFormatter should only be used together with FixedLocator\n",
      "  ax.set_xticklabels(['PIV Only', 'PIV Bridge', 'Central Only'], fontsize = 12)\n"
     ]
    },
    {
     "data": {
      "image/png": "[encoded data removed]",
      "text/plain": [
       "<Figure size 640x480 with 1 Axes>"
      ]
     },
     "metadata": {},
     "output_type": "display_data"
    }
   ],
   "source": [
    "fig_3a = pd.Categorical(fig_3a,\n",
    "                               categories=['PIV Only', 'PIV bridge', 'Central Only'],\n",
    "                               ordered=True\n",
    "                       )\n",
    "fig_3a\n",
    "ax = sns.histplot(\n",
    "    data=fig_3a,\n",
    "    stat = 'percent',\n",
    "    shrink = 0.65,\n",
    "    color = 'blue'\n",
    ")\n",
    "ax.set(xlabel='Route of VP Initiation', ylabel='Percent of \\n Respondents', ylim = [0,85])\n",
    "       #yscale = 'log')\n",
    "    \n",
    "ax.set_ylabel(ax.get_ylabel(), rotation = 0, ha = 'right', labelpad = 10)\n",
    "ax.set_xlabel(ax.get_xlabel(), labelpad = 10)\n",
    "ax.set_xticklabels(['PIV Only', 'PIV Bridge', 'Central Only'], fontsize = 12)\n",
    "ax.tick_params(left = False, bottom = False)\n",
    "ax.spines[['right', 'top']].set_visible(False)\n",
    "ax.tick_params(axis='x', which='major', pad=1)\n",
    "ax.annotate(\"N = 1127\", xy=(0.8,0.9),xycoords='axes fraction',\n",
    "             fontsize=14)\n",
    "ax.get_yaxis().set_tick_params(which='minor', size=0)\n",
    "ax.yaxis.set_major_locator(plt.MultipleLocator(25))\n",
    "ax.spines[['right', 'top']].set_visible(False)\n",
    "ax.margins(x = 0.18)"
   ]
  },
  {
   "cell_type": "code",
   "execution_count": 32,
   "id": "29c4ba16-ebc8-4ad8-b997-8cc34bff6286",
   "metadata": {},
   "outputs": [
    {
     "name": "stdout",
     "output_type": "stream",
     "text": [
      "367\n"
     ]
    }
   ],
   "source": [
    "fig_3b = pvp_data['route6_q17']\n",
    "print(len(fig_3b.dropna()))"
   ]
  },
  {
   "cell_type": "code",
   "execution_count": 33,
   "id": "9f68d4df-889c-4a66-bd66-db1b053f65c6",
   "metadata": {},
   "outputs": [
    {
     "name": "stderr",
     "output_type": "stream",
     "text": [
      "C:\\Users\\julienw\\AppData\\Local\\Temp\\ipykernel_10956\\2522916227.py:17: UserWarning: FixedFormatter should only be used together with FixedLocator\n",
      "  ax.set_xticklabels(['PICC Only', 'PIV Only', 'PIV Bridge', 'Central Only'], fontsize = 12)\n"
     ]
    },
    {
     "data": {
      "image/png": "[encoded data removed]",
      "text/plain": [
       "<Figure size 640x480 with 1 Axes>"
      ]
     },
     "metadata": {},
     "output_type": "display_data"
    }
   ],
   "source": [
    "fig_3b = pd.Categorical(fig_3b,\n",
    "                               categories=['PICC', 'PIV Only', 'PIV bridge', 'Central only'],\n",
    "                               ordered=True\n",
    "                       )\n",
    "#fig_3a\n",
    "ax = sns.histplot(\n",
    "    data=fig_3b,\n",
    "    stat = 'percent',\n",
    "    shrink = 0.65,\n",
    "    color = 'blue'\n",
    ")\n",
    "ax.set(xlabel='Route of VP Initiation', ylabel='Percent of \\n Respondents', ylim = [0,85])\n",
    "       #yscale = 'log')\n",
    "    \n",
    "ax.set_ylabel(ax.get_ylabel(), rotation = 0, ha = 'right', labelpad = 10)\n",
    "ax.set_xlabel(ax.get_xlabel(), labelpad = 10)\n",
    "ax.set_xticklabels(['PICC Only', 'PIV Only', 'PIV Bridge', 'Central Only'], fontsize = 12)\n",
    "ax.tick_params(left = False, bottom = False)\n",
    "ax.spines[['right', 'top']].set_visible(False)\n",
    "ax.tick_params(axis='x', which='major', pad=1)\n",
    "ax.annotate(\"N = 367\", xy=(0.8,0.9),xycoords='axes fraction',\n",
    "             fontsize=14)\n",
    "ax.get_yaxis().set_tick_params(which='minor', size=0)\n",
    "ax.yaxis.set_major_locator(plt.MultipleLocator(25))\n",
    "ax.spines[['right', 'top']].set_visible(False)\n",
    "#ax.margins(x = 0.18)"
   ]
  },
  {
   "cell_type": "code",
   "execution_count": 34,
   "id": "cce41644-8310-41e4-be92-5344882e2296",
   "metadata": {},
   "outputs": [
    {
     "data": {
      "text/plain": [
       "390"
      ]
     },
     "execution_count": 34,
     "metadata": {},
     "output_type": "execute_result"
    }
   ],
   "source": [
    "fig_3c = pvp_data['route4_q11']\n",
    "len(fig_3c.dropna())"
   ]
  },
  {
   "cell_type": "code",
   "execution_count": 35,
   "id": "331aae96-724b-44df-980d-7dd668fedcfd",
   "metadata": {},
   "outputs": [
    {
     "name": "stderr",
     "output_type": "stream",
     "text": [
      "C:\\Users\\julienw\\AppData\\Local\\Temp\\ipykernel_10956\\385308090.py:17: UserWarning: FixedFormatter should only be used together with FixedLocator\n",
      "  ax.set_xticklabels(['PORT Only', 'PIV Only', 'PIV Bridge', 'Central Only'], fontsize = 12)\n"
     ]
    },
    {
     "data": {
      "image/png": "[encoded data removed]",
      "text/plain": [
       "<Figure size 640x480 with 1 Axes>"
      ]
     },
     "metadata": {},
     "output_type": "display_data"
    }
   ],
   "source": [
    "fig_3c = pd.Categorical(fig_3c,\n",
    "                               categories=['PORT', 'PIV Only', 'PIV bridge', 'Central only'],\n",
    "                               ordered=True\n",
    "                       )\n",
    "#fig_3a\n",
    "ax = sns.histplot(\n",
    "    data=fig_3c,\n",
    "    stat = 'percent',\n",
    "    shrink = 0.65,\n",
    "    color = 'blue'\n",
    ")\n",
    "ax.set(xlabel='Route of VP Initiation', ylabel='Percent of \\n Respondents', ylim = [0,85])\n",
    "       #yscale = 'log')\n",
    "    \n",
    "ax.set_ylabel(ax.get_ylabel(), rotation = 0, ha = 'right', labelpad = 10)\n",
    "ax.set_xlabel(ax.get_xlabel(), labelpad = 10)\n",
    "ax.set_xticklabels(['PORT Only', 'PIV Only', 'PIV Bridge', 'Central Only'], fontsize = 12)\n",
    "ax.tick_params(left = False, bottom = False)\n",
    "ax.spines[['right', 'top']].set_visible(False)\n",
    "ax.tick_params(axis='x', which='major', pad=1)\n",
    "ax.annotate(\"N = 390\", xy=(0.8,0.9),xycoords='axes fraction',\n",
    "             fontsize=14)\n",
    "ax.get_yaxis().set_tick_params(which='minor', size=0)\n",
    "ax.yaxis.set_major_locator(plt.MultipleLocator(25))\n",
    "ax.spines[['right', 'top']].set_visible(False)\n",
    "#ax.margins(x = 0.18)"
   ]
  },
  {
   "cell_type": "markdown",
   "id": "7bc48633-3bec-439c-83ad-aef516bb5ddd",
   "metadata": {},
   "source": [
    "### Suppl. Table 3"
   ]
  },
  {
   "cell_type": "code",
   "execution_count": 36,
   "id": "7170ddd2-73ca-4a3b-9cec-618c22ac0b2e",
   "metadata": {},
   "outputs": [
    {
     "data": {
      "text/html": [
       "<div>\n",
       "<style scoped>\n",
       "    .dataframe tbody tr th:only-of-type {\n",
       "        vertical-align: middle;\n",
       "    }\n",
       "\n",
       "    .dataframe tbody tr th {\n",
       "        vertical-align: top;\n",
       "    }\n",
       "\n",
       "    .dataframe thead th {\n",
       "        text-align: right;\n",
       "    }\n",
       "</style>\n",
       "<table border=\"1\" class=\"dataframe\">\n",
       "  <thead>\n",
       "    <tr style=\"text-align: right;\">\n",
       "      <th></th>\n",
       "      <th>count</th>\n",
       "      <th>percentage</th>\n",
       "    </tr>\n",
       "  </thead>\n",
       "  <tbody>\n",
       "    <tr>\n",
       "      <th>Central now</th>\n",
       "      <td>240</td>\n",
       "      <td>43.636364</td>\n",
       "    </tr>\n",
       "    <tr>\n",
       "      <th>PIV to central</th>\n",
       "      <td>146</td>\n",
       "      <td>26.545455</td>\n",
       "    </tr>\n",
       "    <tr>\n",
       "      <th>missing</th>\n",
       "      <td>63</td>\n",
       "      <td>11.454545</td>\n",
       "    </tr>\n",
       "    <tr>\n",
       "      <th>PIV continue</th>\n",
       "      <td>61</td>\n",
       "      <td>11.090909</td>\n",
       "    </tr>\n",
       "    <tr>\n",
       "      <th>Alternative access</th>\n",
       "      <td>40</td>\n",
       "      <td>7.272727</td>\n",
       "    </tr>\n",
       "  </tbody>\n",
       "</table>\n",
       "</div>"
      ],
      "text/plain": [
       "                    count  percentage\n",
       "Central now           240   43.636364\n",
       "PIV to central        146   26.545455\n",
       "missing                63   11.454545\n",
       "PIV continue           61   11.090909\n",
       "Alternative access     40    7.272727"
      ]
     },
     "execution_count": 36,
     "metadata": {},
     "output_type": "execute_result"
    }
   ],
   "source": [
    "pvp_data['case7_q21'] = pvp_data['case7_q21'].fillna('missing')\n",
    "counts = pvp_data['case7_q21'].value_counts()\n",
    "percs = pvp_data['case7_q21'].value_counts(normalize=True)*100\n",
    "pd.concat([counts,percs], axis=1, keys=['count', 'percentage'])"
   ]
  },
  {
   "cell_type": "code",
   "execution_count": 37,
   "id": "1be59a9e-eadc-480b-8fbc-ac80c1eee54b",
   "metadata": {},
   "outputs": [
    {
     "data": {
      "text/html": [
       "<div>\n",
       "<style scoped>\n",
       "    .dataframe tbody tr th:only-of-type {\n",
       "        vertical-align: middle;\n",
       "    }\n",
       "\n",
       "    .dataframe tbody tr th {\n",
       "        vertical-align: top;\n",
       "    }\n",
       "\n",
       "    .dataframe thead th {\n",
       "        text-align: right;\n",
       "    }\n",
       "</style>\n",
       "<table border=\"1\" class=\"dataframe\">\n",
       "  <thead>\n",
       "    <tr style=\"text-align: right;\">\n",
       "      <th></th>\n",
       "      <th>count</th>\n",
       "      <th>percentage</th>\n",
       "    </tr>\n",
       "  </thead>\n",
       "  <tbody>\n",
       "    <tr>\n",
       "      <th>Central now</th>\n",
       "      <td>225</td>\n",
       "      <td>40.909091</td>\n",
       "    </tr>\n",
       "    <tr>\n",
       "      <th>PIV to central</th>\n",
       "      <td>169</td>\n",
       "      <td>30.727273</td>\n",
       "    </tr>\n",
       "    <tr>\n",
       "      <th>missing</th>\n",
       "      <td>67</td>\n",
       "      <td>12.181818</td>\n",
       "    </tr>\n",
       "    <tr>\n",
       "      <th>PIV continue</th>\n",
       "      <td>50</td>\n",
       "      <td>9.090909</td>\n",
       "    </tr>\n",
       "    <tr>\n",
       "      <th>Alternative access</th>\n",
       "      <td>39</td>\n",
       "      <td>7.090909</td>\n",
       "    </tr>\n",
       "  </tbody>\n",
       "</table>\n",
       "</div>"
      ],
      "text/plain": [
       "                    count  percentage\n",
       "Central now           225   40.909091\n",
       "PIV to central        169   30.727273\n",
       "missing                67   12.181818\n",
       "PIV continue           50    9.090909\n",
       "Alternative access     39    7.090909"
      ]
     },
     "execution_count": 37,
     "metadata": {},
     "output_type": "execute_result"
    }
   ],
   "source": [
    "pvp_data['case8_q24'] = pvp_data['case8_q24'].fillna('missing')\n",
    "counts = pvp_data['case8_q24'].value_counts()\n",
    "percs = pvp_data['case8_q24'].value_counts(normalize=True)*100\n",
    "pd.concat([counts,percs], axis=1, keys=['count', 'percentage'])"
   ]
  },
  {
   "cell_type": "code",
   "execution_count": 38,
   "id": "6ac0a568-c98f-425a-a7cf-aba4bfaf233a",
   "metadata": {},
   "outputs": [
    {
     "data": {
      "text/html": [
       "<div>\n",
       "<style scoped>\n",
       "    .dataframe tbody tr th:only-of-type {\n",
       "        vertical-align: middle;\n",
       "    }\n",
       "\n",
       "    .dataframe tbody tr th {\n",
       "        vertical-align: top;\n",
       "    }\n",
       "\n",
       "    .dataframe thead th {\n",
       "        text-align: right;\n",
       "    }\n",
       "</style>\n",
       "<table border=\"1\" class=\"dataframe\">\n",
       "  <thead>\n",
       "    <tr style=\"text-align: right;\">\n",
       "      <th></th>\n",
       "      <th>count</th>\n",
       "      <th>percentage</th>\n",
       "    </tr>\n",
       "  </thead>\n",
       "  <tbody>\n",
       "    <tr>\n",
       "      <th>Central now</th>\n",
       "      <td>223</td>\n",
       "      <td>40.545455</td>\n",
       "    </tr>\n",
       "    <tr>\n",
       "      <th>PIV to central</th>\n",
       "      <td>156</td>\n",
       "      <td>28.363636</td>\n",
       "    </tr>\n",
       "    <tr>\n",
       "      <th>missing</th>\n",
       "      <td>67</td>\n",
       "      <td>12.181818</td>\n",
       "    </tr>\n",
       "    <tr>\n",
       "      <th>PIV continue</th>\n",
       "      <td>65</td>\n",
       "      <td>11.818182</td>\n",
       "    </tr>\n",
       "    <tr>\n",
       "      <th>Alternative access</th>\n",
       "      <td>39</td>\n",
       "      <td>7.090909</td>\n",
       "    </tr>\n",
       "  </tbody>\n",
       "</table>\n",
       "</div>"
      ],
      "text/plain": [
       "                    count  percentage\n",
       "Central now           223   40.545455\n",
       "PIV to central        156   28.363636\n",
       "missing                67   12.181818\n",
       "PIV continue           65   11.818182\n",
       "Alternative access     39    7.090909"
      ]
     },
     "execution_count": 38,
     "metadata": {},
     "output_type": "execute_result"
    }
   ],
   "source": [
    "pvp_data['case9_q27'] = pvp_data['case9_q27'].fillna('missing')\n",
    "counts = pvp_data['case9_q27'].value_counts()\n",
    "percs = pvp_data['case9_q27'].value_counts(normalize=True)*100\n",
    "pd.concat([counts,percs], axis=1, keys=['count', 'percentage'])"
   ]
  },
  {
   "cell_type": "code",
   "execution_count": 39,
   "id": "d415b1d1-bec4-4e55-9812-fbf40b93320f",
   "metadata": {},
   "outputs": [
    {
     "data": {
      "text/html": [
       "<div>\n",
       "<style scoped>\n",
       "    .dataframe tbody tr th:only-of-type {\n",
       "        vertical-align: middle;\n",
       "    }\n",
       "\n",
       "    .dataframe tbody tr th {\n",
       "        vertical-align: top;\n",
       "    }\n",
       "\n",
       "    .dataframe thead th {\n",
       "        text-align: right;\n",
       "    }\n",
       "</style>\n",
       "<table border=\"1\" class=\"dataframe\">\n",
       "  <thead>\n",
       "    <tr style=\"text-align: right;\">\n",
       "      <th></th>\n",
       "      <th>count</th>\n",
       "      <th>percentage</th>\n",
       "    </tr>\n",
       "  </thead>\n",
       "  <tbody>\n",
       "    <tr>\n",
       "      <th>Central now</th>\n",
       "      <td>246</td>\n",
       "      <td>44.727273</td>\n",
       "    </tr>\n",
       "    <tr>\n",
       "      <th>PIV to central</th>\n",
       "      <td>151</td>\n",
       "      <td>27.454545</td>\n",
       "    </tr>\n",
       "    <tr>\n",
       "      <th>missing</th>\n",
       "      <td>67</td>\n",
       "      <td>12.181818</td>\n",
       "    </tr>\n",
       "    <tr>\n",
       "      <th>PIV continue</th>\n",
       "      <td>51</td>\n",
       "      <td>9.272727</td>\n",
       "    </tr>\n",
       "    <tr>\n",
       "      <th>Alternative access</th>\n",
       "      <td>35</td>\n",
       "      <td>6.363636</td>\n",
       "    </tr>\n",
       "  </tbody>\n",
       "</table>\n",
       "</div>"
      ],
      "text/plain": [
       "                    count  percentage\n",
       "Central now           246   44.727273\n",
       "PIV to central        151   27.454545\n",
       "missing                67   12.181818\n",
       "PIV continue           51    9.272727\n",
       "Alternative access     35    6.363636"
      ]
     },
     "execution_count": 39,
     "metadata": {},
     "output_type": "execute_result"
    }
   ],
   "source": [
    "pvp_data['case10_q30'] = pvp_data['case10_q30'].fillna('missing')\n",
    "counts = pvp_data['case10_q30'].value_counts()\n",
    "percs = pvp_data['case10_q30'].value_counts(normalize=True)*100\n",
    "pd.concat([counts,percs], axis=1, keys=['count', 'percentage'])"
   ]
  },
  {
   "cell_type": "markdown",
   "id": "8364795d-5e78-4b19-80d1-a38107ae7537",
   "metadata": {},
   "source": [
    "### Figure 4"
   ]
  },
  {
   "cell_type": "code",
   "execution_count": 40,
   "id": "d0e91169-1323-4f0f-84bb-d2bbe6ff5786",
   "metadata": {},
   "outputs": [],
   "source": [
    "pvp_clean = pd.read_csv('C:/Users/julienw/OneDrive - Michigan Medicine/Documents/PVP/Data/pvp_clean_fixed.csv')\n",
    "pvp_clean =  pvp_clean[pvp_clean['case1_q3'].notna() | pvp_clean['case2_q6'].notna() \n",
    "                   | pvp_clean['case3_q8'].notna() | pvp_clean['case4_q11'].notna() |\n",
    "                   pvp_clean['case5_q14'].notna() | pvp_clean['case6_q17'].notna()].reset_index(drop = True)"
   ]
  },
  {
   "cell_type": "code",
   "execution_count": 41,
   "id": "73df2c14-8129-41e1-b22c-982fd49355f6",
   "metadata": {},
   "outputs": [],
   "source": [
    "# Create new fluid variables derived from recommended treatment variable\n",
    "# np.where(condition, value if condition is true, value if condition is false)\n",
    "pvp_clean['fluid 1'] = np.where(pvp_clean['case1_q3'].isna(), np.nan,\n",
    "                                np.where((pvp_clean['case1_q3'] == 1) | (pvp_clean['case1_q3'] == 2), 1, 0))\n",
    "pvp_clean['fluid 2'] = np.where(pvp_clean['case2_q6'].isna(), np.nan,\n",
    "                                np.where((pvp_clean['case2_q6'] == 1) | (pvp_clean['case2_q6'] == 2), 1, 0))\n",
    "pvp_clean['fluid 3'] = np.where(pvp_clean['case3_q8'].isna(), np.nan,\n",
    "                                np.where((pvp_clean['case3_q8'] == 1) | (pvp_clean['case3_q8'] == 2), 1, 0))\n",
    "pvp_clean['fluid 4'] = np.where(pvp_clean['case4_q11'].isna(), np.nan,\n",
    "                                np.where((pvp_clean['case4_q11'] == 1) | (pvp_clean['case4_q11'] == 2), 1, 0))\n",
    "pvp_clean['fluid 5'] = np.where(pvp_clean['case5_q14'].isna(), np.nan,\n",
    "                                np.where((pvp_clean['case5_q14'] == 1) | (pvp_clean['case5_q14'] == 2), 1, 0))\n",
    "pvp_clean['fluid 6'] = np.where(pvp_clean['case6_q17'].isna(), np.nan,\n",
    "                                np.where((pvp_clean['case6_q17'] == 1) | (pvp_clean['case6_q17'] == 2), 1, 0))"
   ]
  },
  {
   "cell_type": "code",
   "execution_count": 42,
   "id": "5e768f8d-bb5e-4521-b63c-82a832a483bf",
   "metadata": {},
   "outputs": [],
   "source": [
    "fluids = pvp_clean[['fluid 1', 'fluid 2', 'fluid 3', 'fluid 4', 'fluid 5', 'fluid 6']]"
   ]
  },
  {
   "cell_type": "code",
   "execution_count": 43,
   "id": "22dc52ce-c82b-4bb6-aa5f-e6e4876ec29e",
   "metadata": {},
   "outputs": [
    {
     "data": {
      "text/plain": [
       "Text(0.5, 1.0, 'Number of cases where respondents gave fluid')"
      ]
     },
     "execution_count": 43,
     "metadata": {},
     "output_type": "execute_result"
    },
    {
     "data": {
      "image/png": "[encoded data removed]",
      "text/plain": [
       "<Figure size 1200x600 with 1 Axes>"
      ]
     },
     "metadata": {},
     "output_type": "display_data"
    }
   ],
   "source": [
    "ax = fluids.sum(axis=1).value_counts(normalize=True).mul(100).sort_index().plot.bar(rot=0, figsize=(12,6))\n",
    "# and do some cosmetics\n",
    "#ax.set_xticklabels([f'{i.get_text()} case(s)' for i in ax.get_xticklabels()])\n",
    "ax.set_xticklabels(['0 cases', '1 case', '2 cases', \n",
    "                    '3 cases', '4 cases', '5 cases', '6 cases'], fontsize = 15)\n",
    "#ax.set(ylim = [0,30])\n",
    "ax.set_ylabel('Percentage of respondents')\n",
    "ax.set_xlabel('Number of cases (1-6) where respondents chose to give fluid')\n",
    "ax.set_title('Number of cases where respondents gave fluid')\n",
    "#ax.tick_params(axis='x', which='major', pad=10)"
   ]
  },
  {
   "cell_type": "code",
   "execution_count": 44,
   "id": "e2aabc11-2e24-488b-9f34-706198397b6d",
   "metadata": {},
   "outputs": [],
   "source": [
    "# Create pressors variables derived from recommended treatment variable\n",
    "pvp_clean['pressor 1'] = np.where(pvp_clean['case1_q3'].isna(), np.nan,\n",
    "                                  np.where((pvp_clean['case1_q3'] == 2) | (pvp_clean['case1_q3'] == 3), 1, 0))\n",
    "pvp_clean['pressor 2'] = np.where(pvp_clean['case2_q6'].isna(), np.nan,\n",
    "                                  np.where((pvp_clean['case2_q6'] == 2) | (pvp_clean['case2_q6'] == 3), 1, 0))\n",
    "pvp_clean['pressor 3'] = np.where(pvp_clean['case3_q8'].isna(), np.nan,\n",
    "                                  np.where((pvp_clean['case3_q8'] == 2) | (pvp_clean['case3_q8'] == 3), 1, 0))\n",
    "pvp_clean['pressor 4'] = np.where(pvp_clean['case4_q11'].isna(), np.nan,\n",
    "                                  np.where((pvp_clean['case4_q11'] == 2) | (pvp_clean['case4_q11'] == 3), 1, 0))\n",
    "pvp_clean['pressor 5'] = np.where(pvp_clean['case5_q14'].isna(), np.nan,\n",
    "                                  np.where((pvp_clean['case5_q14'] == 2) | (pvp_clean['case5_q14'] == 3), 1, 0))\n",
    "pvp_clean['pressor 6'] = np.where(pvp_clean['case6_q17'].isna(), np.nan,\n",
    "                                  np.where((pvp_clean['case6_q17'] == 2) | (pvp_clean['case6_q17'] == 3), 1, 0))"
   ]
  },
  {
   "cell_type": "code",
   "execution_count": 45,
   "id": "f1a7d74b-1c18-4437-8324-d93b9c41a77d",
   "metadata": {},
   "outputs": [],
   "source": [
    "pressors = pvp_clean[['pressor 1', 'pressor 2', 'pressor 3', 'pressor 4', 'pressor 5', 'pressor 6']]"
   ]
  },
  {
   "cell_type": "code",
   "execution_count": 46,
   "id": "8d4eebbe-7614-41e7-a69b-04f42296dae4",
   "metadata": {},
   "outputs": [
    {
     "data": {
      "text/plain": [
       "Text(0.5, 1.0, 'Number of cases where respondents gave vasopressors')"
      ]
     },
     "execution_count": 46,
     "metadata": {},
     "output_type": "execute_result"
    },
    {
     "data": {
      "image/png": "[encoded data removed]",
      "text/plain": [
       "<Figure size 1200x600 with 1 Axes>"
      ]
     },
     "metadata": {},
     "output_type": "display_data"
    }
   ],
   "source": [
    "ax = pressors.sum(axis=1).value_counts(normalize=True).mul(100).sort_index().plot.bar(rot=0, figsize=(12,6))\n",
    "# and do some cosmetics\n",
    "#ax.set_xticklabels([f'{i.get_text()} case(s)' for i in ax.get_xticklabels()])\n",
    "ax.set_xticklabels(['0 cases', '1 case', '2 cases', \n",
    "                    '3 cases', '4 cases', '5 cases', '6 cases'], fontsize = 15)\n",
    "ax.set_ylabel('Percentage of respondents')\n",
    "ax.set_xlabel('Number of cases (1-6) where respondents chose to give vasopressors')\n",
    "ax.set_title('Number of cases where respondents gave vasopressors')\n",
    "#ax.tick_params(axis='x', which='major', pad=10)"
   ]
  },
  {
   "cell_type": "code",
   "execution_count": 47,
   "id": "9d28e6e7-b11e-4c06-9b42-bef8fcab6079",
   "metadata": {},
   "outputs": [],
   "source": [
    "# Create cvc variable derived from continuation route\n",
    "pvp_clean['cvc 7'] = np.where(pvp_clean['case7_q21'].isna(), np.nan,\n",
    "                              np.where((pvp_clean['case7_q21'] == 3) | ((pvp_clean['case7_q21'] == 4)\n",
    "                                 & (pvp_clean['altacc7_q21'] == 3)), 1, 0))\n",
    "pvp_clean['cvc 8'] = np.where(pvp_clean['case8_q24'].isna(), np.nan,\n",
    "                              np.where((pvp_clean['case8_q24'] == 3) | ((pvp_clean['case8_q24'] == 4)\n",
    "                                 & (pvp_clean['altacc8_q24'] == 3)), 1, 0))\n",
    "pvp_clean['cvc 9'] = np.where(pvp_clean['case9_q27'].isna(), np.nan,\n",
    "                              np.where((pvp_clean['case9_q27'] == 3) | ((pvp_clean['case9_q27'] == 4)\n",
    "                                 & (pvp_clean['altacc9_q27'] == 3)), 1, 0))\n",
    "pvp_clean['cvc 10'] = np.where(pvp_clean['case10_q30'].isna(), np.nan,\n",
    "                              np.where((pvp_clean['case10_q30'] == 3) | ((pvp_clean['case10_q30'] == 4)\n",
    "                                 & (pvp_clean['altacc10_q30'] == 3)), 1, 0))"
   ]
  },
  {
   "cell_type": "code",
   "execution_count": 48,
   "id": "f8f0d2b7-e3d0-4b47-b166-9bb4cada6023",
   "metadata": {},
   "outputs": [],
   "source": [
    "cvc = pvp_clean[['cvc 7', 'cvc 8', 'cvc 9', 'cvc 10']]"
   ]
  },
  {
   "cell_type": "code",
   "execution_count": 49,
   "id": "741f9f7b-8dc2-491b-a5e1-1ff9b1c21c91",
   "metadata": {},
   "outputs": [
    {
     "data": {
      "text/plain": [
       "Text(0.5, 1.0, 'Number of cases where respondents placed a central line')"
      ]
     },
     "execution_count": 49,
     "metadata": {},
     "output_type": "execute_result"
    },
    {
     "data": {
      "image/png": "[encoded data removed]",
      "text/plain": [
       "<Figure size 1200x600 with 1 Axes>"
      ]
     },
     "metadata": {},
     "output_type": "display_data"
    }
   ],
   "source": [
    "ax = cvc.sum(axis=1).value_counts(normalize=True).mul(100).sort_index().plot.bar(rot=0, figsize=(12,6))\n",
    "# and do some cosmetics\n",
    "#ax.set_xticklabels([f'{i.get_text()} case(s)' for i in ax.get_xticklabels()])\n",
    "ax.set(ylim = [0,27.5])\n",
    "ax.set_xticklabels(['0 cases', '1 case', '2 cases', \n",
    "                    '3 cases', '4 cases'], fontsize = 15)\n",
    "ax.set_ylabel('Percentage of respondents')\n",
    "ax.set_xlabel('Number of cases (7-10) where respondents chose to place a central line')\n",
    "ax.set_title('Number of cases where respondents placed a central line')\n",
    "#ax.tick_params(axis='x', which='major', pad=10)"
   ]
  },
  {
   "cell_type": "markdown",
   "id": "6ec764ea-aca9-4c2f-a831-b352037decbb",
   "metadata": {
    "tags": []
   },
   "source": [
    "### Suppl. Table 1"
   ]
  },
  {
   "cell_type": "code",
   "execution_count": 50,
   "id": "f11e22a8-f4a8-447a-a15f-ea192fff16e8",
   "metadata": {},
   "outputs": [],
   "source": [
    "# Define the possible values for each column\n",
    "gender_values = [1, 2, 3]\n",
    "role_values = [1, 2, 3]\n",
    "region_values = [1, 2, 3, 4, 5, 6]\n",
    "survey_values = [1, 0]\n",
    "\n",
    "# Define the number of occurrences for each value in each column\n",
    "gender_counts_survey = [261, 192, 97]\n",
    "role_counts_survey = [337, 101, 32]\n",
    "region_counts_survey = [141, 121, 118, 88, 2, 80]\n",
    "survey_counts_survey = [550, 0]\n",
    "\n",
    "gender_counts_sccm = [3354, 2167, 5681]\n",
    "role_counts_sccm = [8804, 2392, 6]\n",
    "region_counts_sccm = [2823, 2601, 3397, 1867, 54, 460]\n",
    "survey_counts_sccm = [0, 11202]\n",
    "\n",
    "# Generate the arrays of repeated values for each column\n",
    "gender_survey = np.repeat(gender_values, gender_counts_survey)\n",
    "role_survey = np.repeat(role_values, role_counts_survey)\n",
    "region_survey = np.repeat(region_values, region_counts_survey)\n",
    "survey_survey = np.repeat(survey_values, survey_counts_survey)\n",
    "\n",
    "gender_sccm = np.repeat(gender_values, gender_counts_sccm)\n",
    "role_sccm = np.repeat(role_values, role_counts_sccm)\n",
    "region_sccm = np.repeat(region_values, region_counts_sccm)\n",
    "survey_sccm = np.repeat(survey_values, survey_counts_sccm)\n",
    "\n",
    "# Combine the arrays into Pandas dataframes\n",
    "df_survey = pd.concat([pd.Series(gender_survey), pd.Series(role_survey), \n",
    "                       pd.Series(region_survey), pd.Series(survey_survey)], axis=1)\n",
    "df_survey.columns = ['Gender', 'Role', 'Region', 'Survey']\n",
    "\n",
    "df_sccm = pd.concat([pd.Series(gender_sccm), pd.Series(role_sccm), \n",
    "                     pd.Series(region_sccm), pd.Series(survey_sccm)], axis=1)\n",
    "df_sccm.columns = ['Gender', 'Role', 'Region', 'Survey']\n",
    "\n",
    "# Concatenate survey and SCCM data\n",
    "frames = [df_survey, df_sccm]\n",
    "supp_table_1 = pd.concat(frames)\n",
    "# Convert data set to csv and export to working directory\n",
    "supp_table_1.to_csv('C:/Users/julienw/OneDrive - Michigan Medicine/Documents/PVP/Data/supp_table_1.csv',index = False)"
   ]
  },
  {
   "cell_type": "markdown",
   "id": "80c1c476-a7fb-4b57-a3a9-2a2bfd4bf919",
   "metadata": {},
   "source": [
    "### Table 4"
   ]
  },
  {
   "cell_type": "code",
   "execution_count": 51,
   "id": "b339acfd-728e-434a-8ac3-64a184649550",
   "metadata": {},
   "outputs": [],
   "source": [
    "comments = pvp_data[['case1_comment', 'case2_comment', 'case3_comment', 'case4_comment', 'case5_comment',\n",
    "                     'case6_comment', 'case7_comment', 'case8_comment', 'case9_comment', 'case10_comment', \n",
    "                     'realism_comment', 'infl_factors_other', 'usual_comment']]"
   ]
  },
  {
   "cell_type": "code",
   "execution_count": 52,
   "id": "d160fb66-b7c5-4b03-936a-90ff4768c310",
   "metadata": {},
   "outputs": [],
   "source": [
    "comments = comments.dropna(how = 'all')"
   ]
  },
  {
   "cell_type": "code",
   "execution_count": 53,
   "id": "d547dfe6-aad2-4044-bbfc-cd2120be3ec6",
   "metadata": {},
   "outputs": [],
   "source": [
    "comments.to_csv('C:/Users/julienw/OneDrive - Michigan Medicine/Documents/PVP/Data/comments.csv',index = False)"
   ]
  },
  {
   "cell_type": "code",
   "execution_count": null,
   "id": "8f8e0769-e50c-47b5-aad9-e594f07554c3",
   "metadata": {},
   "outputs": [],
   "source": []
  }
 ],
 "metadata": {
  "kernelspec": {
   "display_name": "Python 3 (ipykernel)",
   "language": "python",
   "name": "python3"
  },
  "language_info": {
   "codemirror_mode": {
    "name": "ipython",
    "version": 3
   },
   "file_extension": ".py",
   "mimetype": "text/x-python",
   "name": "python",
   "nbconvert_exporter": "python",
   "pygments_lexer": "ipython3",
   "version": "3.10.9"
  }
 },
 "nbformat": 4,
 "nbformat_minor": 5
}
